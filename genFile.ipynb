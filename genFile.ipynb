{
 "cells": [
  {
   "cell_type": "code",
   "execution_count": 3,
   "metadata": {},
   "outputs": [],
   "source": [
    "with open('files/numbers.txt', 'w') as f:\n",
    "    output = '\\n'.join([str(x) for x in range(100000)])\n",
    "    f.write(output)"
   ]
  },
  {
   "cell_type": "code",
   "execution_count": 7,
   "metadata": {},
   "outputs": [],
   "source": [
    "import random\n",
    "with open('files/long_2d.csv', 'w') as f:\n",
    "    output = '\\n'.join([','.join([str(random.randint(0,100)) for _ in range(10)]) for _ in range(100)])\n",
    "    f.write(output)"
   ]
  },
  {
   "cell_type": "code",
   "execution_count": 1,
   "metadata": {},
   "outputs": [],
   "source": [
    "import random\n",
    "with open('files/locations.csv', 'w') as f:\n",
    "    output = '\\n'.join([','.join([str((1-random.random())*.5 + 37.26638) , str((1-random.random())*.5 + -76.71873)]) for _ in range(20)])\n",
    "    f.write(output)"
   ]
  },
  {
   "cell_type": "code",
   "execution_count": 4,
   "metadata": {},
   "outputs": [],
   "source": [
    "import random\n",
    "with open('files/defects.csv', 'w') as f:\n",
    "    output = '\\n'.join([str(random.randint(0,10)) if random.random() <=.87 else '' for _ in range(20)])\n",
    "    f.write(output)"
   ]
  },
  {
   "cell_type": "code",
   "execution_count": null,
   "metadata": {},
   "outputs": [],
   "source": []
  }
 ],
 "metadata": {
  "kernelspec": {
   "display_name": "Python 3",
   "language": "python",
   "name": "python3"
  },
  "language_info": {
   "codemirror_mode": {
    "name": "ipython",
    "version": 3
   },
   "file_extension": ".py",
   "mimetype": "text/x-python",
   "name": "python",
   "nbconvert_exporter": "python",
   "pygments_lexer": "ipython3",
   "version": "3.8.5"
  }
 },
 "nbformat": 4,
 "nbformat_minor": 4
}
