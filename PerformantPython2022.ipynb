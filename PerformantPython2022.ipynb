{
 "cells": [
  {
   "cell_type": "markdown",
   "metadata": {},
   "source": [
    "# Goals of this Notebook\n",
    "\n",
    "To learn:\n",
    "- How to effectively iterate through elements in data structures\n",
    "  - <code>for</code> and <code>while</code> loop\n",
    "- How to access data programmatically\n",
    "- Useful Python functions and techniques\n",
    "- Python skills for large data sets\n",
    "- Skills for readable programming code\n",
    "- How to measure code speed and memory usage\n",
    "  - ... in order to increase speed and reduce memory usage\n",
    "  \n",
    "While the <font face='courier'>numpy</font> and <font face='courier'>pandas</font> packages have utilities for inputting data into <code>arrays</code> and <code>DataFrames</code>, respectively, programmers need to often input data files with base Python statements, and so we will demonstrate how to do that.  This knowledge is also essential for understanding what <font face='courier'>numpy</font> and <font face='courier'>pandas</font> are doing under the covers.   In addition, data input provides a good opportunity for gaining experience with <code>for</code> loops which you will use in virtually every program you write.   \n",
    "\n",
    "In addition, while the <font face='courier'>numpy</font> and <font face='courier'>pandas</font> packages ease data acquisition, they hide important details from you which are very important to know.  So, if you understand how to input data with base Python, then you will be in a better position to troubleshoot problems you might have with inputting data with <font face='courier'>numpy</font> and <font face='courier'>pandas</font>.\n",
    "\n",
    "Specific techniques\n",
    "- Generators, iterators, and iterables\n",
    "  - Including <code>itertools</code> package, <code>enumerate()</code> and <code>iter()</code>\n",
    "  - Handling large files\n",
    "- Code profiling\n",
    "  - Speed: <code>line_profiler</code>, <code>timeit</code>, <code>time</code> package\n",
    "  - Memory: <code>memory_profiler</code>, <code>memit</code>, <code>\\_\\_sizeof\\_\\_</code> package\n",
    "  \n",
    "# Topics & Navigation <a name='navigation' />\n",
    "- <a href = #data_for_loop>Text File Input with For Loops</a>\n",
    "- <a href = #OtherComp>Comprehension Methods</a>\n",
    "  - <a href = #ListComprehension>List Comprehension</a>\n",
    "  - <a href = #DictComp>Dictionary Comprehension</a>\n",
    "  - <a href = #SetComp>Set Comprehension</a>\n",
    "- <a href = #enumerate>For loops with <code>enumerate</code></a>\n",
    "- <a href = #zip_map_filter><code>zip()</code>, <code>map()</code>, and <code>filter()</code> Functions</a>\n",
    "  - <a href = #asterisk_op><code>*</code> Operator</a>\n",
    "  - <a href = #zip><code>zip()</code> Function</a>\n",
    "  - <a href = #map><code>map()</code> Function</a>\n",
    "  - <a href = #filter><code>filter()</code> Function</a>\n",
    "  - <a href = #apps_zip_map_filter>Applications of <code>zip()</code>, <code>map()</code>, and <code>filter()</code></a>\n",
    "- <a href = #ItItGen>Iterables, Iterators, Generators, and the * Operator</a>\n",
    "  - <a href = #Iterables>Iterables</a>\n",
    "  - <a href = #Iterators>Iterators</a>\n",
    "  - <a href = #Generators>Generators</a>\n",
    "- <a href = #text_w_gen>Text File Input with Base Python Generators</a>\n",
    "- <a href = #comp_w_gen>Computations on Large Text Files with Generators</a>\n",
    "  - <a href = #mv_avg>Moving Average Computation</a>\n",
    "  - <a href = #nyc>NYC Taxi Data (Variance)</a>\n",
    "  - <a href = #1_2_pass>One-pass versus Two-pass Computations</a>\n",
    "- <a href = #time_mem>Measuring Execution Time and Memory Usage</a>\n",
    "  - <a href = #time>Execution Time</a>\n",
    "  - <a href = #memory>Memory Usage</a>\n",
    "- <a href = #text_w_gen>Text File Input with Base Python Generators</a> \n",
    "- <a href = #loops><font face='courier'>for</font> loop review</a> \n",
    "- <a href = #aliasing>Aliasing</a>\n",
    "\n",
    "# Code Development\n",
    "\n",
    "Code is developed is stages with varying objectives depenedent on the development stage:\n",
    "- Get it working\n",
    "  - The code runs without errors\n",
    "- Get it working correctly\n",
    "  - Get correct output for all inputs\n",
    "- Increase code speed and reduce memory usage\n",
    "  - Optimize the code\n",
    "\n",
    "In every stage:\n",
    "- Make code more readable\n",
    "  - Variable names\n",
    "  - Comments\n",
    "  - Succinct\n",
    "    - Reduce the number of lines and line length\n",
    "  - Simplicity\n",
    "    - Use the simplest approach and the best variable types\n",
    "\n",
    "    \n",
    "\n"
   ]
  },
  {
   "cell_type": "markdown",
   "metadata": {},
   "source": [
    "# Data Input with For Loops <a name='data_for_loop' />\n",
    "Back to <a href = '#navigation'>Navigation</a>\n",
    "\n",
    "## Full Disclosure\n",
    "\n",
    "As discussed previously, there exist easier ways to read data files into Python with <font face='courier'>numpy</font> and <font face='courier'>pandas</font> than using <code>for</code> loops, as shown below.\n",
    "\n",
    "It is best in many circumstances, however, to input data with base Python commands and avoiding learning this technique will be to your detriment later on.  Besides inputting data and learning basic Python text cleansing at the same time, competence with <code>for</code> loops is important basis for learning:\n",
    "- List comprehension\n",
    "- Dictionary and set comprehension\n",
    "- Generators and iterators"
   ]
  },
  {
   "cell_type": "code",
   "execution_count": null,
   "metadata": {},
   "outputs": [],
   "source": [
    "import numpy as np\n",
    "import pandas as pd"
   ]
  },
  {
   "cell_type": "code",
   "execution_count": null,
   "metadata": {},
   "outputs": [],
   "source": [
    "np_nw1999 = np.genfromtxt('files/NorfolkWeather1999.csv', delimiter = ',')\n",
    "np_nw1999[:5]"
   ]
  },
  {
   "cell_type": "code",
   "execution_count": null,
   "metadata": {},
   "outputs": [],
   "source": [
    "df_nw2018 = pd.read_csv('files/NorfolkWeather2018.csv', names = ['index', 'temp'], index_col = 'index')\n",
    "df_nw2018[:5]"
   ]
  },
  {
   "cell_type": "markdown",
   "metadata": {},
   "source": [
    "# Handling Data with Basic Python\n"
   ]
  },
  {
   "cell_type": "markdown",
   "metadata": {},
   "source": [
    "This first statement imports <font face = 'courier'>matplotlib</font>.  "
   ]
  },
  {
   "cell_type": "code",
   "execution_count": null,
   "metadata": {},
   "outputs": [],
   "source": [
    "import matplotlib.pyplot as plt "
   ]
  },
  {
   "cell_type": "markdown",
   "metadata": {},
   "source": [
    "## 1D Data\n",
    "\n",
    "\n",
    "* In a nutshell\n",
    "  * 1-dimensional time series data\n",
    "  * Inputting data from text file\n",
    "  * Computing moving average\n",
    "\n",
    "_Time series data_ are data that are collected over time at constant intervals.  Examples include, daily or hourly weather data, daily sales of an item or all company sales in total (either in units or dollar volume), number of daily visits to a web site, and annual gross domestic product.\n",
    "\n",
    "One issue that arises with time series data is to summarize the pattern over time despite there being frequent highs and lows (noise) and highs and lows over longer periods (either economic cycles or seasonal effects).  The _moving average_ is frequently used to summarize the trend that is muddied by noise over the short-term.\n",
    "\n",
    "We will work with inputting two 1D time series from two text files.\n",
    "- <code>NorfolkWeather1999_1.csv</code>\n",
    "- <code>NorfolkWeather2008_1.csv</code>\n",
    "\n",
    "Note that data read from text files is always interpreted as string data.  It must be converted to numerical quantitites for plotting. "
   ]
  },
  {
   "cell_type": "code",
   "execution_count": null,
   "metadata": {},
   "outputs": [],
   "source": [
    "f = open('files/NorfolkWeather1999_1.csv','r')\n",
    "nw1999 = f.readlines()\n",
    "f.close()\n",
    "\n",
    "for i in range(len(nw1999)):\n",
    "    nw1999[i] = float(nw1999[i])\n",
    "\n",
    "x = range(len(nw1999))\n",
    "plt.plot(x, nw1999, label = '1999')\n",
    "plt.show()"
   ]
  },
  {
   "cell_type": "markdown",
   "metadata": {},
   "source": [
    "Now, input the 2018 data.  Multiple series can be plotted by having multiple <code>plt.plot()</code> statements."
   ]
  },
  {
   "cell_type": "code",
   "execution_count": null,
   "metadata": {},
   "outputs": [],
   "source": [
    "f = open('files/NorfolkWeather2018_1.csv','r')\n",
    "nw2018 = f.readlines()\n",
    "f.close()\n",
    "\n",
    "y2018 = []\n",
    "\n",
    "for i in range(len(nw2018)):\n",
    "    nw2018[i] = float(nw2018[i])\n",
    "\n",
    "\"\"\" Plot both data series \"\"\"\n",
    "plt.plot(x, nw1999, label = '1999')\n",
    "plt.plot(x, nw2018, label = '2018')\n",
    "plt.legend()\n",
    "plt.show()"
   ]
  },
  {
   "cell_type": "markdown",
   "metadata": {},
   "source": [
    "## A 1D Data Application: The Moving Average\n",
    "\n",
    "Let our time series data be collected for time indices $d \\in \\left\\lbrace 0, ... , D-1 \\right\\rbrace$, where $d$ stands for the index for a given day. We will be considering daily time series for a year, so $D=365$.  A moving average, $ma_n(d)$ of $n$ days for day $d$ is defined as:\n",
    "\n",
    "$ma_n(d) = \\frac{1}{n} \\Sigma_{i = d-n+1}^d t(i)$\n",
    "\n",
    "where $t(d)$ is the average temperature for day $d$.  Note that $ma(d)$ is defined only for day in this range: $d \\in \\left\\lbrace n-1, \\ldots ,    D-1 \\right\\rbrace$.\n",
    "\n",
    "*Click on the image below* to see a visualization of how a moving average is computed in a way that may be more clear than the math above.\n",
    "\n",
    "[![Moving Average Animation](https://img.youtube.com/vi/rq__3P_rs4M/0.jpg)](https://www.youtube.com/watch?v=rq__3P_rs4M)\n",
    "\n",
    "The files <font face = 'courier'>NorfolkWeather1999.csv</font> and <font face = 'courier'>NorfolkWeather2018.csv</font>  have the daily average temperatures for the years indicated in the filenames.  Load each of these text files into a list (load only the daily average temperature and not the row index), and then create new lists, <font face = 'courier'>ma1999</font> and <font face = 'courier'>ma2018</font>, that are 10-day moving averages of the original data.\n",
    "\n",
    "Although we are not focusing on plotting in this session, we will compare the two moving average series using the <font face = 'courier'>matplotlib</font> package.\n",
    "\n",
    "Let's compute and plot the moving averages of the two data series using <font face = 'courier'>for</font> loops and compare the two results."
   ]
  },
  {
   "cell_type": "code",
   "execution_count": null,
   "metadata": {},
   "outputs": [],
   "source": [
    "''' period: \n",
    "      * a variable representing the number of periods that are averaged together to create\n",
    "        the moving average \n",
    "      * Given the zero-based indexing of Python, the first moving average can be computed\n",
    "        in Period period - 1 '''\n",
    "period = 10\n",
    "\n",
    "ma1999 = []  # Initialize moving average list for 1999\n",
    "ma2018 = []  # Initialize moving average list for 2018\n",
    "\n",
    "for i in range(0, len(nw1999) - period + 1):\n",
    "    ma1999.append(sum(nw1999[i:i + period])/period)\n",
    "    ma2018.append(sum(nw2018[i:i + period])/period)\n",
    "\n",
    "plt.plot(ma1999, label = '1999')\n",
    "plt.plot(ma2018, label = '2018')\n",
    "plt.legend()\n",
    "\n",
    "plt.show()"
   ]
  },
  {
   "cell_type": "code",
   "execution_count": null,
   "metadata": {},
   "outputs": [],
   "source": [
    "plt.plot(ma1999, label = '1999 Avg.')\n",
    "plt.plot(nw1999, label = '1999 Temps')\n",
    "plt.legend()\n",
    "\n",
    "plt.show()"
   ]
  },
  {
   "cell_type": "markdown",
   "metadata": {},
   "source": [
    "## 2D Data Input\n",
    "\n",
    "These files have two data elements per line, an integer index and a temperature, separated by commas.\n",
    "\n",
    "- <code>NorfolkWeather1999.csv</code>\n",
    "- <code>NorfolkWeather2008.csv</code>\n",
    "\n",
    "We'll need to take extra care to split the elements of each line at the commas before we convert the data to numerical values.  __Please note that we do not split the data when there exists only one element per row, but we do need split row elements apart when multiple are in each row of data.__\n",
    "\n",
    "Also, please not the improved method of opening files for input.  No <code>f.close()</code> statement is needed as the file is implicitly closed after completion of the code within the <code>with</code> block.  The same method can be used also when writing to files."
   ]
  },
  {
   "cell_type": "code",
   "execution_count": null,
   "metadata": {},
   "outputs": [],
   "source": [
    "with open('files/NorfolkWeather1999.csv','r') as f:\n",
    "    nw1999 = f.readlines()\n",
    "\n",
    "x = []\n",
    "y1999 = []\n",
    "\n",
    "for i in range(len(nw1999)):\n",
    "    nw1999[i] = nw1999[i].strip()\n",
    "    nw1999[i] = nw1999[i].split(',')\n",
    "    x.append(int(nw1999[i][0]))\n",
    "    y1999.append(float(nw1999[i][1]))\n",
    "\n",
    "plt.plot(x, y1999, label = '1999')\n",
    "plt.show()"
   ]
  },
  {
   "cell_type": "markdown",
   "metadata": {},
   "source": [
    "Now, input the 2018 data."
   ]
  },
  {
   "cell_type": "code",
   "execution_count": null,
   "metadata": {},
   "outputs": [],
   "source": [
    "with open('files/NorfolkWeather2018.csv','r') as f:\n",
    "    nw2018 = f.readlines()\n",
    "\n",
    "y2018 = []\n",
    "\n",
    "for i in range(len(nw2018)):\n",
    "    nw2018[i] = nw2018[i].strip()\n",
    "    nw2018[i] = nw2018[i].split(',')\n",
    "    y2018.append(float(nw2018[i][1]))\n",
    "\n",
    "\"\"\" Plot both data series \"\"\"\n",
    "plt.plot(x, y1999, label = '1999')\n",
    "plt.plot(x, y2018, label = '2018')\n",
    "plt.legend()\n",
    "plt.show()"
   ]
  },
  {
   "cell_type": "markdown",
   "metadata": {},
   "source": [
    "## An Improvement"
   ]
  },
  {
   "cell_type": "markdown",
   "metadata": {},
   "source": [
    "The two code blocks could be combined and the repetitive cleansing steps can be put into a function to clean up the code.  The function name <code>ssc()</code> is and acronym for strip, split, and convert."
   ]
  },
  {
   "cell_type": "code",
   "execution_count": null,
   "metadata": {},
   "outputs": [],
   "source": [
    "def ssc(data):\n",
    "    x = []\n",
    "    y = []\n",
    "    for i in range(len(data)):\n",
    "        data[i] = data[i].strip().split(',')\n",
    "        x.append(int(data[i][0]))\n",
    "        y.append(float(data[i][1]))\n",
    "    return x, y\n",
    "    \n",
    "with open('files/NorfolkWeather1999.csv','r') as f:\n",
    "    nw1999 = f.readlines()\n",
    "\n",
    "with open('files/NorfolkWeather2018.csv','r') as f:\n",
    "    nw2018 = f.readlines()\n",
    "\n",
    "x, y1999 = ssc(nw1999)\n",
    "x, y2018 = ssc(nw2018)\n",
    "plt.plot(x, y1999, label = '1999')\n",
    "plt.plot(x, y2018, label = '2018')\n",
    "plt.legend()\n",
    "plt.show()"
   ]
  },
  {
   "cell_type": "markdown",
   "metadata": {},
   "source": [
    "## 2D Data Input: An Alternative"
   ]
  },
  {
   "cell_type": "markdown",
   "metadata": {},
   "source": [
    "It is sometimes desirable to keep both the <code>x</code> and <code>y</code> data in the same data structure which is the case for example, for data that represents latitude and longitude of set set of locations.  We do that in the example below.   "
   ]
  },
  {
   "cell_type": "code",
   "execution_count": null,
   "metadata": {},
   "outputs": [],
   "source": [
    "def ssc2(data):\n",
    "    for i in range(len(data)):\n",
    "        data[i] = data[i].strip().split(',')\n",
    "        data[i][0] = float(data[i][0])\n",
    "        data[i][1] = float(data[i][1])\n",
    "    return data\n",
    "\n",
    "with open('files/locations.csv','r') as f:\n",
    "    locs = f.readlines()\n",
    "print(locs)\n",
    "locs = ssc2(locs)\n",
    "print(locs)"
   ]
  },
  {
   "cell_type": "markdown",
   "metadata": {},
   "source": [
    "## Generalized 2D Input\n",
    "\n",
    "Rows of data most often will have more than two elements in which case it makes sense to loop through the row elements with a <code>for</code> loop rather than converting the row elements explicitly, a shown below.\n",
    "\n",
    "Note that we implement an improvement that reduces the number of lines by chaining commands, or executing multiple commands on the same line, specifically the  <font style=\"font-family:'courier'\">.strip()</font> and <font style=\"font-family:'courier'\">.split()</font> functions. \n",
    "\n",
    "For this exercise we will use the data file named <font style=\"font-family:'courier'\">long_2d.csv</font>."
   ]
  },
  {
   "cell_type": "code",
   "execution_count": null,
   "metadata": {
    "scrolled": true
   },
   "outputs": [],
   "source": [
    "def ssc3(data):\n",
    "    for i in range(len(data)):\n",
    "        data[i] = data[i].strip().split(',')  #Get rid of \\n and break row data aprat at the commas\n",
    "        for j in range(len(data[i])): # each data[i] now is a list of multiple elements, iterate through them\n",
    "            data[i][j] = int(data[i][j])  # Inspect the data file: these data are integers\n",
    "    return(data)\n",
    "\n",
    "with open('files/long_2d.csv','r') as f:\n",
    "    data = f.readlines()\n",
    "\n",
    "print(data)\n",
    "data = ssc3(data)\n",
    "        \n",
    "print(data)"
   ]
  },
  {
   "cell_type": "markdown",
   "metadata": {},
   "source": [
    "This function is not flexible, however, and we would need to write a new function each time we wanted to convert data in an input file depending on how many fields were in the data and what types we wanted to convert them to.  The conversion function can be made more flexible by supplying it with the data for conversion in the form of a dictionary with its keys equal to the column indices and its values indicating the data types."
   ]
  },
  {
   "cell_type": "code",
   "execution_count": null,
   "metadata": {},
   "outputs": [],
   "source": [
    "def ssc_2d_map(convert, data):\n",
    "    for i in range(len(data)):\n",
    "        data[i] = data[i].strip().split(',')\n",
    "        for j, mk_type in convert.items():\n",
    "            data[i][j] = mk_type(data[i][j])\n",
    "    return data\n",
    "\n",
    "with open('files/NorfolkWeather1999.csv','r') as f:\n",
    "    nw1999 = f.readlines()\n",
    "\n",
    "''' convert_map dictionary: key = filed index; value = data type'''\n",
    "convert_map = {0:int, 1:float}\n",
    "nw1999 = ssc_2d_map(convert_map, nw1999)\n",
    "\n",
    "''' Create x and y series data '''\n",
    "x = []\n",
    "y1999 = []\n",
    "for point in nw1999:\n",
    "    x.append(point[0])\n",
    "    y1999.append(point[1])\n",
    "    \n",
    "plt.plot(x, y1999, label = '1999')\n",
    "plt.show()"
   ]
  },
  {
   "cell_type": "markdown",
   "metadata": {},
   "source": [
    "We can simplify one of the functions above as follows.  This is possible because some Python data types are altered _in place_ in functions so that we do not need to return them.  For people with CS backgrounds this is the difference of passing variables to function by reference versus by value."
   ]
  },
  {
   "cell_type": "code",
   "execution_count": null,
   "metadata": {},
   "outputs": [],
   "source": [
    "def ssc3(data):\n",
    "    for i in range(len(data)):\n",
    "        data[i] = data[i].strip().split(',')  #Get rid of \\n and break row data aprat at the commas\n",
    "        for j in range(len(data[i])): # each data[i] now is a list of multiple elements, iterate through them\n",
    "            data[i][j] = int(data[i][j])  # Inspect the data file: these data are integers\n",
    "    #return(data)\n",
    "\n",
    "with open('files/long_2d.csv','r') as f:\n",
    "    data = f.readlines()\n",
    "\n",
    "print(data)\n",
    "#data = ssc3(data)\n",
    "ssc3(data)\n",
    "        \n",
    "print(data)"
   ]
  },
  {
   "cell_type": "markdown",
   "metadata": {},
   "source": [
    "Try this with dictionaries passed to a function."
   ]
  },
  {
   "cell_type": "code",
   "execution_count": null,
   "metadata": {},
   "outputs": [],
   "source": [
    "def add2dict(d):\n",
    "    for k,v in d.items():\n",
    "        d[k] = v+1\n",
    "        \n",
    "my_dct = {'zero':0, 'one':1, 'two':2}\n",
    "add2dict(my_dct)\n",
    "print(my_dct)"
   ]
  },
  {
   "cell_type": "markdown",
   "metadata": {},
   "source": [
    "## Chaining Commands\n",
    "\n",
    "Commands can be chained done whenever a command returns the data that is being manipulated, which sometimes is not case.  When an executed statement does not return the the data, then we say the operation is being executed _in place_.  \n",
    "\n",
    "Using <code>sort()</code> with a list is an _in place_ operation: it sorts the list for next time we access it, but it does not return the sortedlist so that we cannot use the <code>.sort()</code> method in an assignment statement to change the value of another variable.\n",
    "\n",
    "Using <font style=\"font-family:'courier'\">.strip()</font> and <font style=\"font-family:'courier'\">.split()</font> do return the revised data, as shown below, so they are not _in place_ operations."
   ]
  },
  {
   "cell_type": "code",
   "execution_count": null,
   "metadata": {},
   "outputs": [],
   "source": [
    "my_list = [9, 8, 7, 6]\n",
    "result = my_list.sort()\n",
    "print(result)"
   ]
  },
  {
   "cell_type": "code",
   "execution_count": null,
   "metadata": {},
   "outputs": [],
   "source": [
    "my_list"
   ]
  },
  {
   "cell_type": "code",
   "execution_count": null,
   "metadata": {},
   "outputs": [],
   "source": [
    "my_input = '1, 2, 3, 4, 5\\n'\n",
    "print('Split data;', my_input.strip().split())\n",
    "print(my_input)"
   ]
  },
  {
   "cell_type": "markdown",
   "metadata": {},
   "source": [
    "## 2D Input Exercise\n",
    "\n",
    "In this case we will read in a matrix or array of values from the file <code>matrix.csv</code>.  Create a list of lists where each sublist contains the elements from each row of the data file."
   ]
  },
  {
   "cell_type": "code",
   "execution_count": null,
   "metadata": {},
   "outputs": [],
   "source": [
    "with open('files/matrix.csv', 'r') as f:\n",
    "    data = f.readlines()\n",
    "\n",
    "''' Let us finish the code here '''\n",
    "data"
   ]
  },
  {
   "cell_type": "markdown",
   "metadata": {},
   "source": [
    "# Reshaping Data Arrays\n",
    "\n",
    "The <font face='courier'>numpy</font> package can reshape data arrays, and you will use this utility in the artiificial Intelligence course.  Reshaping applied to a 2-dimensional array or list of lists that has 4 rows and 4 columns, for example, means to restructure the 16 elements in an array with different numbers of rows or columns.  A 4 by 4 list of lists can be reshaped into a 16 by 1, 1 by 16, 8 by 2, or a 2 by 8 list of lists.\n",
    "\n",
    "Write code to reshape the 4 by 4 array named <font face='courier'>a</font> below into an 8 by 2 list of lists named <font face='courier'>b</font>.  You may use <code>for</code> loops or list comprehension."
   ]
  },
  {
   "cell_type": "code",
   "execution_count": null,
   "metadata": {},
   "outputs": [],
   "source": [
    "a = [[0,1,2,3],[4,5,6,7], [8,9,10,11], [12,13,14,15]]"
   ]
  },
  {
   "cell_type": "code",
   "execution_count": null,
   "metadata": {},
   "outputs": [],
   "source": [
    "rows = 8\n",
    "cols = 2\n",
    "\n",
    "# Flatten the list of lists: 1 by 16\n",
    "temp = []\n",
    "for row in a:\n",
    "    for ele in row:\n",
    "        temp.append(ele)\n",
    "print(temp)\n",
    "\n",
    "b = []\n",
    "for r in range(rows):\n",
    "    newRow = []\n",
    "    for c in range(cols):\n",
    "        newRow.append(temp[r*cols + c])\n",
    "    b.append(newRow)\n",
    "print(b)"
   ]
  },
  {
   "cell_type": "markdown",
   "metadata": {},
   "source": [
    "## From Loops to List Comprehesion <a name='ListComprehension' />\n",
    "Back to <a href = '#navigation'>Navigation</a>\n",
    "\n",
    "List comprehension is a technique for condensing the number of statements required to create a new list using for loops.  \n",
    "\n",
    "- More succinct code\n",
    "- More readable code\n",
    "- Faster than <code>for</code> loops\n",
    "\n",
    "The cells immediately below demonstrate the simplest form of list comprehension."
   ]
  },
  {
   "cell_type": "code",
   "execution_count": null,
   "metadata": {},
   "outputs": [],
   "source": [
    "import random\n",
    "numElements = 10\n",
    "newList = []\n",
    "\n",
    "for i in range(numElements):\n",
    "    newList.append(random.random())\n",
    "newList"
   ]
  },
  {
   "cell_type": "markdown",
   "metadata": {},
   "source": [
    "The method for converting a <code>for</code> loop into a list comprehension state is illustrated below.\n",
    "\n",
    "![List Comprehension Structure](images/listComprehension1.jpg)\n",
    "![List Comprehension Example](images/listComprehension.jpg)"
   ]
  },
  {
   "cell_type": "code",
   "execution_count": null,
   "metadata": {},
   "outputs": [],
   "source": [
    "import random\n",
    "numElements = 10\n",
    "\n",
    "newList1 = [random.random() for i in range(numElements)]\n",
    "newList1"
   ]
  },
  {
   "cell_type": "markdown",
   "metadata": {},
   "source": [
    "Logic can be applied within list comprehension statements to filter the elements appended to the list."
   ]
  },
  {
   "cell_type": "code",
   "execution_count": null,
   "metadata": {},
   "outputs": [],
   "source": [
    "newList2 = []\n",
    "\n",
    "for i in range(21):\n",
    "    if i % 2 ==0:\n",
    "        newList2.append(i)\n",
    "newList2"
   ]
  },
  {
   "cell_type": "markdown",
   "metadata": {},
   "source": [
    "\n",
    "\n",
    "![List Comprehension Structure w/Logic](images/listComprehension2.jpg)\n",
    "\n",
    "For example, we could use the following code if we wanted to create a list of even numbers through 20."
   ]
  },
  {
   "cell_type": "code",
   "execution_count": null,
   "metadata": {},
   "outputs": [],
   "source": [
    "newList3 = [i for i in range(21) if i%2 == 0]\n",
    "newList3"
   ]
  },
  {
   "cell_type": "markdown",
   "metadata": {},
   "source": [
    "Compound Boolean filtering logic can be used as well."
   ]
  },
  {
   "cell_type": "code",
   "execution_count": null,
   "metadata": {},
   "outputs": [],
   "source": [
    "newList4 = [i for i in range(21) if i%2 == 0 and i>7]\n",
    "newList4"
   ]
  },
  {
   "cell_type": "markdown",
   "metadata": {},
   "source": [
    "More complex <code>if-elif-else</code> logic can be implemented, although having multiple levels can make the statement difficult to read.\n",
    "\n",
    "Notice that the location of the Boolean statement changes when the <code>else</code> is introduced."
   ]
  },
  {
   "cell_type": "code",
   "execution_count": null,
   "metadata": {},
   "outputs": [],
   "source": [
    "newList5 = []\n",
    "for i in range(21):\n",
    "    if i % 2 == 0:\n",
    "        newList5.append(i)\n",
    "    else:\n",
    "        newList5.append('')\n",
    "\n",
    "newList5"
   ]
  },
  {
   "cell_type": "markdown",
   "metadata": {},
   "source": [
    "\n",
    "![List Comprehension Structure w/If-Else](images/list_comp_if_else.jpg)\n"
   ]
  },
  {
   "cell_type": "code",
   "execution_count": null,
   "metadata": {},
   "outputs": [],
   "source": [
    "newList5 = [i if i % 2 == 0 else '' for i in range(21)]\n",
    "newList5"
   ]
  },
  {
   "cell_type": "markdown",
   "metadata": {},
   "source": [
    "Keeping the <code>if</code> list comprehension statement syntax straight with the <code>if-else</code> syntax can be difficult.  The reason the <code>if</code> and the else go together are that, together, they form a coherent Python statement, which is called a _ternary_ statement, which can eb used in an assignment statement."
   ]
  },
  {
   "cell_type": "code",
   "execution_count": null,
   "metadata": {},
   "outputs": [],
   "source": [
    "i = 5\n",
    "'even' if i%2==0 else 'odd'"
   ]
  },
  {
   "cell_type": "code",
   "execution_count": null,
   "metadata": {},
   "outputs": [],
   "source": [
    "i = 6\n",
    "result = 'even' if i%2==0 else 'odd'\n",
    "result"
   ]
  },
  {
   "cell_type": "markdown",
   "metadata": {},
   "source": [
    "Multiple levels of <code>if-else</code>.  These are actually nested _ternary_ statement."
   ]
  },
  {
   "cell_type": "code",
   "execution_count": null,
   "metadata": {},
   "outputs": [],
   "source": [
    "data = [1, 2.1828, 'string', [0, 1, 2], (1,2), 2, 3.5]\n",
    "newList6 = ['int' if isinstance(x, int) else 'float' if isinstance(x, float) else 'other' for x in data]\n",
    "newList6"
   ]
  },
  {
   "cell_type": "markdown",
   "metadata": {},
   "source": [
    "## Inputting Data and Computations with List Comprehension\n",
    "\n",
    "Let's work with 1D data first."
   ]
  },
  {
   "cell_type": "code",
   "execution_count": null,
   "metadata": {},
   "outputs": [],
   "source": [
    "with open('files/NorfolkWeather2018_1.csv','r')as f:\n",
    "    nw2018 = f.readlines()\n",
    "\n",
    "for i in range(len(nw2018)):\n",
    "    nw2018[i] = float(nw2018[i].strip())\n",
    "\n",
    "\"\"\" Plot both data series \"\"\"\n",
    "plt.plot(x, nw2018, label = '2018')\n",
    "plt.legend()\n",
    "plt.show()"
   ]
  },
  {
   "cell_type": "code",
   "execution_count": null,
   "metadata": {},
   "outputs": [],
   "source": [
    "with open('files/NorfolkWeather2018_1.csv','r')as f:\n",
    "    nw2018 = f.readlines()\n",
    "\n",
    "nw2018 = [float(nw2018[i].strip()) for i in range(len(nw2018))]\n",
    "\n",
    "\"\"\" Plot both data series \"\"\"\n",
    "plt.plot(x, nw2018, label = '2018')\n",
    "plt.legend()\n",
    "plt.show()"
   ]
  },
  {
   "cell_type": "code",
   "execution_count": null,
   "metadata": {},
   "outputs": [],
   "source": [
    "with open('files/NorfolkWeather2018_1.csv','r')as f:\n",
    "    nw2018 = f.readlines()\n",
    "\n",
    "nw2018 = [float(d.strip()) for d in nw2018]\n",
    "\n",
    "\"\"\" Plot both data series \"\"\"\n",
    "plt.plot(x, nw2018, label = '2018')\n",
    "plt.legend()\n",
    "plt.show()"
   ]
  },
  {
   "cell_type": "code",
   "execution_count": null,
   "metadata": {},
   "outputs": [],
   "source": [
    "with open('files/NorfolkWeather2018_1.csv','r')as f:\n",
    "    nw2018 = [float(d.strip()) for d in f.readlines()]\n",
    "\n",
    "\"\"\" Plot both data series \"\"\"\n",
    "plt.plot(x, nw2018, label = '2018')\n",
    "plt.legend()\n",
    "plt.show()"
   ]
  },
  {
   "cell_type": "markdown",
   "metadata": {},
   "source": [
    "The cell below refreshes our memory on one of the 2D functions for stripping, splitting, and converting data.  Let's revise it using list comprehension.  Assume, initially, that both row elements need to be converted to floating point values."
   ]
  },
  {
   "cell_type": "code",
   "execution_count": null,
   "metadata": {},
   "outputs": [],
   "source": [
    "def ssc_2d(data):\n",
    "    for i in range(len(data)):\n",
    "        data[i] = data[i].strip().split(',')\n",
    "        for j in range(len(data[i])):\n",
    "            data[i][j] = float(data[i][j])\n",
    "    return data\n",
    "\n",
    "with open('files/NorfolkWeather1999.csv','r') as f:\n",
    "    nw1999 = f.readlines()\n",
    "nw1999 = ssc_2d(nw1999)\n",
    "nw1999"
   ]
  },
  {
   "cell_type": "code",
   "execution_count": null,
   "metadata": {},
   "outputs": [],
   "source": [
    "def ssc_2d(data):\n",
    "    result = []\n",
    "    for row in data:\n",
    "        row = row.strip().split(',')\n",
    "        new_row = []\n",
    "        for e in row:\n",
    "            new_row.append(float(e))\n",
    "        result.append(new_row)\n",
    "        \n",
    "    return result\n",
    "\n",
    "with open('files/NorfolkWeather1999.csv','r') as f:\n",
    "    nw1999 = f.readlines()\n",
    "nw1999 = ssc_2d(nw1999)\n",
    "nw1999"
   ]
  },
  {
   "cell_type": "code",
   "execution_count": null,
   "metadata": {},
   "outputs": [],
   "source": [
    "def ssc_2d(data):\n",
    "    result = []\n",
    "    for row in data:\n",
    "        row = row.strip().split(',')\n",
    "        new_row = [float(e) for e in row]\n",
    "        result.append(new_row)\n",
    "        \n",
    "    return result\n",
    "\n",
    "with open('files/NorfolkWeather1999.csv','r') as f:\n",
    "    nw1999 = f.readlines()\n",
    "nw1999 = ssc_2d(nw1999)\n",
    "nw1999"
   ]
  },
  {
   "cell_type": "code",
   "execution_count": null,
   "metadata": {},
   "outputs": [],
   "source": [
    "def ssc_2d(data):\n",
    "    result = []\n",
    "    for row in data:\n",
    "        row = row.strip().split(',')\n",
    "        result.append([float(e) for e in row])\n",
    "        \n",
    "    return result\n",
    "\n",
    "with open('files/NorfolkWeather1999.csv','r') as f:\n",
    "    nw1999 = f.readlines()\n",
    "nw1999 = ssc_2d(nw1999)\n",
    "nw1999"
   ]
  },
  {
   "cell_type": "code",
   "execution_count": null,
   "metadata": {},
   "outputs": [],
   "source": [
    "def ssc_2d(data):\n",
    "    result = []\n",
    "    for row in data:\n",
    "        result.append([float(e) for e in row.strip().split(',')])\n",
    "        \n",
    "    return result\n",
    "\n",
    "with open('files/NorfolkWeather1999.csv','r') as f:\n",
    "    nw1999 = f.readlines()\n",
    "nw1999 = ssc_2d(nw1999)\n",
    "nw1999"
   ]
  },
  {
   "cell_type": "code",
   "execution_count": null,
   "metadata": {},
   "outputs": [],
   "source": [
    "def ssc_2d(data):\n",
    "    result = [[float(e) for e in row.strip().split(',')] for row in data]\n",
    "    return result\n",
    "\n",
    "with open('files/NorfolkWeather1999.csv','r') as f:\n",
    "    nw1999 = f.readlines()\n",
    "nw1999 = ssc_2d(nw1999)\n",
    "nw1999"
   ]
  },
  {
   "cell_type": "code",
   "execution_count": null,
   "metadata": {},
   "outputs": [],
   "source": [
    "def ssc_2d(data):\n",
    "    return [[float(e) for e in row.strip().split(',')] for row in data]\n",
    "\n",
    "with open('files/NorfolkWeather1999.csv','r') as f:\n",
    "    nw1999 = f.readlines()\n",
    "nw1999 = ssc_2d(nw1999)\n",
    "nw1999"
   ]
  },
  {
   "cell_type": "markdown",
   "metadata": {},
   "source": [
    "This problem is more difficult if the row elements need to be converted to different data types.  But tackling this increased complexity is easy later on when we learn a new tool."
   ]
  },
  {
   "cell_type": "markdown",
   "metadata": {},
   "source": [
    "## Computations with List Comprehension\n",
    "\n",
    "The moving average computations with <code>for</code> loops can be done with list comprehension as well.\n",
    "\n",
    "The first cell repeats our original code."
   ]
  },
  {
   "cell_type": "code",
   "execution_count": null,
   "metadata": {},
   "outputs": [],
   "source": [
    "''' period: \n",
    "      * a variable representing the number of periods that are averaged together to create\n",
    "        the moving average \n",
    "      * Given the zero-based indexing of Python, the first moving average can be computed\n",
    "        in Period period - 1 '''\n",
    "period = 10\n",
    "\n",
    "ma1999 = []  # Initialize moving average list for 1999\n",
    "ma2018 = []  # Initialize moving average list for 2018\n",
    "\n",
    "for i in range(0, len(nw1999) - period + 1):\n",
    "    ma1999.append(sum(nw1999[i:i + period])/period)\n",
    "    ma2018.append(sum(nw2018[i:i + period])/period)\n",
    "\n",
    "plt.plot(ma1999, label = '1999')\n",
    "plt.plot(ma2018, label = '2018')\n",
    "plt.legend()\n",
    "\n",
    "plt.show()"
   ]
  },
  {
   "cell_type": "code",
   "execution_count": null,
   "metadata": {},
   "outputs": [],
   "source": [
    "period = 10\n",
    "\n",
    "ma1999 = [sum(nw1999[i:i + period])/period for i in range(0,len(nw1999) - period + 1)]\n",
    "ma2018 = [sum(nw2018[i:i + period])/period for i in range(0,len(nw2018) - period + 1)]\n",
    "\n",
    "plt.plot(ma1999, label = '1999')\n",
    "plt.plot(ma2018, label = '2018')\n",
    "plt.legend()\n",
    "\n",
    "plt.show()"
   ]
  },
  {
   "cell_type": "markdown",
   "metadata": {},
   "source": [
    "# Other Comprehension Methods <a name='OtherComp' />"
   ]
  },
  {
   "cell_type": "markdown",
   "metadata": {},
   "source": [
    "## Dictionary Comprehension <a name='DictComp' />\n",
    "Back to <a href = '#navigation'>Navigation</a>\n",
    "\n",
    "Dictionaries can be created with _dictionary comprehension_  just as lists can be generated with _list comprehension_.  We will create a dictionary from a text file, both with a for loop and with dictionary comprehension.  But first, let's practice with some hard-coded data.\n",
    "\n",
    "The differences between list comprehension and dictionary comprehension are that the latter uses curly braces rather than square brackets and the specification for what is appended to the dictionary requires both a key and a value, separated by a colon. Here, a sequence of 2-tuples is converted into a dictionary:\n",
    "\n",
    "<code>\n",
    "    tups = [(0, 'cero'), (1, 'uno'), (2, 'dos')]\n",
    "    newDictionary = {k:v for k,v in tups}\n",
    "</code>\n",
    "\n",
    "Let's convert a list of lists into a dictionary, where each sublist contains the name of a national parks and its acreage.  Specifically, the national park name will be the key and the acreage will be the value.\n",
    "\n",
    "The first cells show multiple ways to use for loops for this task and the corresponding methods with dictionary comprehension.\n",
    "\n",
    "Source: National Parks data was extracted from [Wikipedia National Parks page](https://en.wikipedia.org/wiki/List_of_national_parks_of_the_United_States)."
   ]
  },
  {
   "cell_type": "code",
   "execution_count": null,
   "metadata": {},
   "outputs": [],
   "source": [
    "natParksList = [['Acadia',49075.26], ['Yellowstone',2219790.71], ['Yosemite',761747.5], ['Shenandoah',199223.77], \\\n",
    "                ['Saguro',91715.72], ['Petrified Forest',221390.21]]\n",
    "natParksList"
   ]
  },
  {
   "cell_type": "markdown",
   "metadata": {},
   "source": [
    "### Dictionaries from _for_ Loops\n",
    "Back to <a href = '#navigation'>Navigation</a>\n",
    "\n",
    "For this demonstration, let's assume that we have a list of lists, where each sublist contains the name of a national park and its acreage.  Let's construct a dictionary from this list of lists with the national park name as the key and the acreage as the value, first, with <code>for</code> loops.  Later, we will do the same with dictionary comprehension.\n",
    "\n",
    "Source: National Parks data was extracted from [Wikipedia National Parks page](https://en.wikipedia.org/wiki/List_of_national_parks_of_the_United_States)."
   ]
  },
  {
   "cell_type": "code",
   "execution_count": null,
   "metadata": {},
   "outputs": [],
   "source": [
    "natParksDict1 = {}\n",
    "for i in range(len(natParksList)):\n",
    "    natParksDict1[natParksList[i][0]] = natParksList[i][1]\n",
    "natParksDict1"
   ]
  },
  {
   "cell_type": "code",
   "execution_count": null,
   "metadata": {},
   "outputs": [],
   "source": [
    "natParksDict2 = {}\n",
    "for x in natParksList:\n",
    "    natParksDict2[x[0]] = x[1]\n",
    "natParksDict2"
   ]
  },
  {
   "cell_type": "code",
   "execution_count": null,
   "metadata": {},
   "outputs": [],
   "source": [
    "natParksDict3 = {}\n",
    "for name, acreage in natParksList:\n",
    "    natParksDict3[name] = acreage\n",
    "natParksDict3"
   ]
  },
  {
   "cell_type": "markdown",
   "metadata": {},
   "source": [
    "### Dictionary Comprehension  <a name='DictComp' />\n",
    "Back to <a href = '#navigation'>Navigation</a>\n",
    "\n",
    "The logic of unpacking a for loop and inserting the contents into a dictionary comprehension statement is the same as with list comprehension, except for tweaks that are appropriate for dictionaries: \n",
    "- Curly braces specify a dictionary is being created rather than a list, which uses square brackets\n",
    "- We need to specify a key and a value, separated by a colon, to be inserted in each implicit iteration.\n",
    "\n",
    "![Dictionary Comprehension Template](images/dictComp.jpg)\n",
    "\n",
    "Here is another prototypical statement of dictionary comprehension:\n",
    "\n",
    "<font face='courier'>newDictionary = {k:v for k,v in some_iterator}</font>\n",
    "\n",
    "Dictionary comprehension is useful when filestreams are read into dictionaries, or if, for example, lists need to be converted to dictionaries."
   ]
  },
  {
   "cell_type": "code",
   "execution_count": null,
   "metadata": {},
   "outputs": [],
   "source": [
    "natParksDict1DC = {natParksList[i][0]:natParksList[i][1] for i in range(len(natParksList))}\n",
    "natParksDict1DC"
   ]
  },
  {
   "cell_type": "code",
   "execution_count": null,
   "metadata": {},
   "outputs": [],
   "source": [
    "natParksDict2DC = {x[0]:x[1] for x in natParksList}\n",
    "natParksDict2DC"
   ]
  },
  {
   "cell_type": "code",
   "execution_count": null,
   "metadata": {},
   "outputs": [],
   "source": [
    "natParksDict3DC = {name:acreage for name,acreage in natParksList}\n",
    "natParksDict3DC"
   ]
  },
  {
   "cell_type": "markdown",
   "metadata": {},
   "source": [
    "Here is an example with input data from a text file.  Each line of the file <font face = 'courier'>npNameLoc.txt</font> contains the name of a United States National Park and the state in which that park is located.  Read the file and create a dictionary where the key is the name of the park and the value is a string indicating the state in which the park is located."
   ]
  },
  {
   "cell_type": "code",
   "execution_count": null,
   "metadata": {
    "scrolled": true
   },
   "outputs": [],
   "source": [
    "\"\"\" Read the data \"\"\"\n",
    "f_in = open('files/npNameLoc.txt','r')\n",
    "data = f_in.readlines()\n",
    "f_in.close()\n",
    "\n",
    "\"\"\" Create the dictionary \"\"\"\n",
    "natParkDict1 = {}\n",
    "for i in range(len(data)):\n",
    "    data[i] = data[i].strip().split(',')\n",
    "    natParkDict1[data[i][0]] = data[i][1]\n",
    "natParkDict1"
   ]
  },
  {
   "cell_type": "markdown",
   "metadata": {
    "collapsed": true
   },
   "source": [
    "### Complete the task above with dictionary comprehension\n",
    "\n",
    "At what point does reducing the number of lines of code (more succinct) cause the code to be less readable?"
   ]
  },
  {
   "cell_type": "code",
   "execution_count": null,
   "metadata": {},
   "outputs": [],
   "source": [
    "\"\"\" Read the data \"\"\"\n",
    "with open('files/npNameLoc.txt','r') as f_in: \n",
    "    data = f_in.readlines()\n",
    "\n",
    "\"\"\" Create the dictionary \"\"\"\n",
    "for i in range(len(data)):\n",
    "    data[i] = data[i].strip().split(',')\n",
    "natParkDict1 = {data[i][0]:data[i][1] for i in range(1, len(data))}\n",
    "natParkDict1"
   ]
  },
  {
   "cell_type": "code",
   "execution_count": null,
   "metadata": {},
   "outputs": [],
   "source": [
    "\"\"\" Read the data \"\"\"\n",
    "with open('files/npNameLoc.txt','r') as f_in: \n",
    "    data = f_in.readlines()\n",
    "data = [line.strip().split(',') for line in data]\n",
    "\n",
    "\"\"\" Create the dictionary \"\"\"\n",
    "natParkDict1 = {data[i][0]:data[i][1] for i in range(1, len(data))}\n",
    "natParkDict1"
   ]
  },
  {
   "cell_type": "code",
   "execution_count": null,
   "metadata": {},
   "outputs": [],
   "source": [
    "\"\"\" Read the data \"\"\"\n",
    "with open(files/'npNameLoc.txt','r') as f_in: \n",
    "    data = [line.strip().split(',') for line in f_in.readlines()]\n",
    "\n",
    "\"\"\" Create the dictionary \"\"\"\n",
    "natParkDict1 = {data[i][0]:data[i][1] for i in range(1, len(data))}\n",
    "natParkDict1"
   ]
  },
  {
   "cell_type": "code",
   "execution_count": null,
   "metadata": {},
   "outputs": [],
   "source": [
    "\"\"\" Read the data \"\"\"\n",
    "with open('files/npNameLoc.txt','r') as f_in: \n",
    "    data = [line.strip().split(',') for line in f_in.readlines()]\n",
    "\n",
    "\"\"\" Create the dictionary \"\"\"\n",
    "natParkDict1 = {line[0]:line[1] for line in data[1:]}\n",
    "natParkDict1"
   ]
  },
  {
   "cell_type": "code",
   "execution_count": null,
   "metadata": {},
   "outputs": [],
   "source": [
    "''' Read the data and create the dictionary '''\n",
    "with open('files/npNameLoc.txt','r') as f_in: \n",
    "    natParkDict1 = {line[0]:line[1] for line in [line.strip().split(',') for line in f_in.readlines()][1:]}\n",
    "natParkDict1"
   ]
  },
  {
   "cell_type": "markdown",
   "metadata": {},
   "source": [
    "## Set Comprehension  <a name='SetComp' />\n",
    "Back to <a href = '#navigation'>Navigation</a> \n",
    "\n",
    "A <code>set</code> is a Python data type that contains unique items, that is, no element can be repeated.  These, too, can be created with a comprehension statement.  This data type can be viewed as a set of dictionary keys without values."
   ]
  },
  {
   "cell_type": "code",
   "execution_count": null,
   "metadata": {},
   "outputs": [],
   "source": [
    "my_set = set([0, 0, 1, 1, 1, 2, 2, 2, 3, 3, 3, 4, 4, 5])\n",
    "my_set"
   ]
  },
  {
   "cell_type": "markdown",
   "metadata": {},
   "source": [
    "Elements can be added to a set using the <code>.add()</code> set method in a for loop as shown below.  If the element that is added already exists in the set, then the set remains unchanged."
   ]
  },
  {
   "cell_type": "code",
   "execution_count": null,
   "metadata": {},
   "outputs": [],
   "source": [
    "mylist = [0, 0, 1, 1, 1, 2, 2, 2, 3, 3, 3, 4, 4, 5]\n",
    "my_set1 = set()\n",
    "for ele in mylist:\n",
    "    my_set1.add(ele)\n",
    "my_set1"
   ]
  },
  {
   "cell_type": "markdown",
   "metadata": {},
   "source": [
    "Comprehension can also be used to create sets."
   ]
  },
  {
   "cell_type": "code",
   "execution_count": null,
   "metadata": {},
   "outputs": [],
   "source": [
    "my_set2 = {ele for ele in mylist}\n",
    "my_set2"
   ]
  },
  {
   "cell_type": "markdown",
   "metadata": {},
   "source": [
    "# Comprehension Statement Exercises"
   ]
  },
  {
   "cell_type": "code",
   "execution_count": null,
   "metadata": {},
   "outputs": [],
   "source": []
  },
  {
   "cell_type": "code",
   "execution_count": null,
   "metadata": {},
   "outputs": [],
   "source": []
  },
  {
   "cell_type": "code",
   "execution_count": null,
   "metadata": {},
   "outputs": [],
   "source": []
  },
  {
   "cell_type": "code",
   "execution_count": null,
   "metadata": {},
   "outputs": [],
   "source": []
  },
  {
   "cell_type": "code",
   "execution_count": null,
   "metadata": {},
   "outputs": [],
   "source": []
  },
  {
   "cell_type": "code",
   "execution_count": null,
   "metadata": {},
   "outputs": [],
   "source": []
  },
  {
   "cell_type": "code",
   "execution_count": null,
   "metadata": {},
   "outputs": [],
   "source": []
  },
  {
   "cell_type": "code",
   "execution_count": null,
   "metadata": {},
   "outputs": [],
   "source": []
  },
  {
   "cell_type": "markdown",
   "metadata": {},
   "source": [
    "# <code>for</code> versus <code>while</code> loops\n",
    "\n",
    "Thus far, we have used only <code>for</code> loops, but another type of loops are <code>while</code> loops.  <code>for</code> loops have made sense thus far because we can determine how many times we need to iterate through a list, for example, by using the <code>len()</code> function.  <code>while</code> loops make sense when we can't determine how many times we will need to execute the loop.\n",
    "\n",
    "<code>while</code> loops continue iterating until the condition specified with them is <code>False</code>."
   ]
  },
  {
   "cell_type": "markdown",
   "metadata": {},
   "source": [
    "Write a <code>while</code> loop to append powers of 2, $2^n$ for $n = 0,1, ...$ into a list for all powers of $n$ for $2^n < 2000$."
   ]
  },
  {
   "cell_type": "code",
   "execution_count": null,
   "metadata": {},
   "outputs": [],
   "source": [
    "n = 0\n",
    "result = []\n",
    "while 2**n < 2000:\n",
    "    result.append(2**n)\n",
    "    n = n + 1\n",
    "print(result)"
   ]
  },
  {
   "cell_type": "markdown",
   "metadata": {},
   "source": [
    "While we might like to sometimes use <code>while</code> loops in list comprehension statements, only <code>for</code> loops can be used in list comprehension."
   ]
  },
  {
   "cell_type": "markdown",
   "metadata": {},
   "source": [
    "# <code>for</code> Loops with <code>enumerate()</code>  <a name='enumerate' />\n",
    "Back to <a href = '#navigation'>Navigation</a>\n",
    "\n",
    "As we already know, two ways to iterate through data with <code>for</code> loops are:\n",
    "- By index\n",
    "- Directly through the elements\n",
    "\n",
    "If you want to change the element values, then you need to use the first approach.  The latter approach can be more readable.  The two methods are illustrated in the two cells below, respectively."
   ]
  },
  {
   "cell_type": "code",
   "execution_count": null,
   "metadata": {},
   "outputs": [],
   "source": [
    "values = [0, 1, 2, 4, 5, 7, 8, 9]\n",
    "\n",
    "for i in range(len(values)):\n",
    "    print(i)"
   ]
  },
  {
   "cell_type": "code",
   "execution_count": null,
   "metadata": {},
   "outputs": [],
   "source": [
    "values = [0, 1, 2, 4, 5, 7, 8, 9]\n",
    "\n",
    "for ele in values:\n",
    "    print(ele)"
   ]
  },
  {
   "cell_type": "markdown",
   "metadata": {},
   "source": [
    "In some circumstances you might want to use the latter approach for its readability, while you need the index in order to change the values of the elements in the list.  The <code>enumerate()</code> functions resolve the need to use a single approach, as it affords you the opportunity to use both simultaneously.\n",
    "\n",
    "Three example circumstances where you need <code>enumerate()</code> are illustrated below:\n",
    "- You want to keep track of the iteration number for debugging purposes\n",
    "- You have multiple lists that are the same length, with elements corresponding to one another, and you need to revise the values in at least one of the lists\n",
    "- You want to create a list of tuples from an original data structure whose first element is an index\n",
    "\n",
    "Caution: if you are in the second situation, you may want to rethink the data type you are using.  Perhaps both data fields should be in the same structure."
   ]
  },
  {
   "cell_type": "markdown",
   "metadata": {},
   "source": [
    "A simple example of what <code>enumerate()</code> does."
   ]
  },
  {
   "cell_type": "code",
   "execution_count": null,
   "metadata": {},
   "outputs": [],
   "source": [
    "import random\n",
    "values = [random.random() for _ in range(5)]\n",
    "\n",
    "for i,v in enumerate(values):\n",
    "    print(i,v)"
   ]
  },
  {
   "cell_type": "raw",
   "metadata": {},
   "source": [
    "Some practical examples..."
   ]
  },
  {
   "cell_type": "code",
   "execution_count": null,
   "metadata": {},
   "outputs": [],
   "source": [
    "import random\n",
    "values = [random.random() for _ in range(50000)]"
   ]
  },
  {
   "cell_type": "markdown",
   "metadata": {},
   "source": [
    "Monitor analysis process for big data..."
   ]
  },
  {
   "cell_type": "code",
   "execution_count": null,
   "metadata": {},
   "outputs": [],
   "source": [
    "for i,v in enumerate(values):\n",
    "    # Do something useful with values v here\n",
    "    if i%10000 == 0 and i > 0:\n",
    "        print(f'{i} elements completed')"
   ]
  },
  {
   "cell_type": "markdown",
   "metadata": {},
   "source": [
    "Find rows with defective data..."
   ]
  },
  {
   "cell_type": "code",
   "execution_count": null,
   "metadata": {},
   "outputs": [],
   "source": [
    "with open('files\\defects.csv', 'r') as f:\n",
    "    data = f.readlines()\n",
    "    \n",
    "results = []\n",
    "empty_rows = []\n",
    "for i,v in enumerate(data):\n",
    "    if v.strip() != '':\n",
    "        results.append(int(v.strip()))\n",
    "    else:\n",
    "        empty_rows.append(i)\n",
    "print(results)\n",
    "print(empty_rows)"
   ]
  },
  {
   "cell_type": "markdown",
   "metadata": {},
   "source": [
    "In this example, let's assume that you are reading a large data file, which is mimicked by the list below, and converting string data to integers.  You are getting an error because some of the data cannot be converted to integers.  You can use <code>enumerate()</code> to let you know which line(s) of data cannot be transformed."
   ]
  },
  {
   "cell_type": "code",
   "execution_count": null,
   "metadata": {},
   "outputs": [],
   "source": [
    "data = ['0', '1', '2', 'actual', '4', 'planned', '7', '9']\n",
    "\n",
    "my_int = []\n",
    "junk = []\n",
    "for i,d in enumerate(data):\n",
    "    try:\n",
    "        my_int.append(int(d))\n",
    "    except:\n",
    "        junk.append((i,d))\n",
    "        \n",
    "print(f'junk has {len(junk)} elements: {junk}')"
   ]
  },
  {
   "cell_type": "markdown",
   "metadata": {},
   "source": [
    "Index tuples in case you want to resort them back into the original order."
   ]
  },
  {
   "cell_type": "code",
   "execution_count": null,
   "metadata": {},
   "outputs": [],
   "source": [
    "tups = [(i, v) for i,v in enumerate(values)]\n",
    "tups[:5]"
   ]
  },
  {
   "cell_type": "markdown",
   "metadata": {},
   "source": [
    "# The <code>zip()</code>, <code>map()</code>, and <code>filter()</code>  Functions ... and the <code>*</code> Operator  <a name='zip_map_filter' />\n",
    "Back to <a href = '#navigation'>Navigation</a>\n",
    "\n",
    "These functions are very useful, although accessing the results can be a bit unintuitive until one realizes they are iterators.  We have described iterators and so you have the foundation to understand how to view and use the results of these functions.  By returning results in the form of iterators, these functions perform faster while using less memory.  "
   ]
  },
  {
   "cell_type": "markdown",
   "metadata": {},
   "source": [
    "## The <code>*</code> Operator <a name='asterisk_op' />  \n",
    "Back to <a href = '#navigation'>Navigation</a>\n",
    "\n",
    "We, most liekly, think first of <code>*</code> as denoting a multiplication operation.  But, it has another meaning, which is to unpack Python data types that are collections of elements.  We introduce the notion of unpacking in this section in the context of well known Python data types, including lists, tuples, and dictionaries.  The <code>*</code> operator becomes even more important when we work with generators and iterators, but it is easiest to introduce it in the context of basic Python types.\n",
    "\n",
    "Take these lists and tuples, for example,\n",
    "<code>\n",
    "    ls_1 = [0, 1, 2]\n",
    "    ls_2 = [[0, 1], [2, 3], [4, 5]]\n",
    "    ls_3 = [(0, 1), (2, 3), (4, 5)]\n",
    "    t_1 = (0, 1, 2)\n",
    "    t_2 = ([0, 1], [2, 3], [4, 5])\n",
    "    t_3 = ((0, 1), (2, 3), (4, 5))\n",
    "</code>\n",
    "\n",
    "You can think of the <code>*</code> placed in fornt of one of these variable names as removing the outer container type.  That is, in the respective order above, we would have three uncontained integers, three uncontained sub-lists, and three uncontained tuples in that order or, in effect,\n",
    "\n",
    "<code>\n",
    "    *ls_1 = 0, 1, 2\n",
    "    *ls_2 = [0, 1], [2, 3], [4, 5]\n",
    "    *ls_3 = (0, 1), (2, 3), (4, 5)\n",
    "    *t_1 = 0, 1, 2\n",
    "    *t_2 = [0, 1], [2, 3], [4, 5]\n",
    "    *t_3 = (0, 1), (2, 3), (4, 5)\n",
    "</code>\n",
    "\n",
    "The statements above are not valid Python statements but, rather, demonstrate, in effect, what <code>*</code> does. To further demonstrate, we will try to evaluate one of these starred expressions."
   ]
  },
  {
   "cell_type": "code",
   "execution_count": null,
   "metadata": {},
   "outputs": [],
   "source": [
    "ls_1 = [0, 1, 2]\n",
    "ls_2 = [[0, 1], [2, 3], [4, 5]]\n",
    "ls_3 = [(0, 1), (2, 3), (4, 5)]\n",
    "t_1 = (0, 1, 2)\n",
    "t_2 = ([0, 1], [2, 3], [4, 5])\n",
    "t_3 = ((0, 1), (2, 3), (4, 5))"
   ]
  },
  {
   "cell_type": "code",
   "execution_count": null,
   "metadata": {},
   "outputs": [],
   "source": [
    "*ls_1"
   ]
  },
  {
   "cell_type": "markdown",
   "metadata": {},
   "source": [
    "So, why is this a useful operation?  One use is to repackage the inner elements into a different outer data type, such as in the following cells."
   ]
  },
  {
   "cell_type": "code",
   "execution_count": null,
   "metadata": {},
   "outputs": [],
   "source": [
    "(*ls_1,)"
   ]
  },
  {
   "cell_type": "code",
   "execution_count": null,
   "metadata": {},
   "outputs": [],
   "source": [
    "[*t_1]"
   ]
  },
  {
   "cell_type": "markdown",
   "metadata": {},
   "source": [
    "Well, that is not so impressive or useful: this can be accomplished with other obvious methods.  In the same vein, however, a starred expression can be used to conveniently specify part of a lerger list or tuple that is being constructed."
   ]
  },
  {
   "cell_type": "code",
   "execution_count": null,
   "metadata": {},
   "outputs": [],
   "source": [
    "[9, 8, 7, 6, *ls_1]"
   ]
  },
  {
   "cell_type": "markdown",
   "metadata": {},
   "source": [
    "You can also use <code>*</code> with dictionaries.  Using just the variable name references the dictionary keys, as is the default in a <code>for</code> loop, or both keys and values can be referenced with <code>.items()</code>."
   ]
  },
  {
   "cell_type": "code",
   "execution_count": null,
   "metadata": {},
   "outputs": [],
   "source": [
    "dct_nums = {0:'zero', 1:'one', 2:'two'}"
   ]
  },
  {
   "cell_type": "code",
   "execution_count": null,
   "metadata": {},
   "outputs": [],
   "source": [
    "[*dct_nums]"
   ]
  },
  {
   "cell_type": "code",
   "execution_count": null,
   "metadata": {},
   "outputs": [],
   "source": [
    "[*dct_nums.items()]"
   ]
  },
  {
   "cell_type": "code",
   "execution_count": null,
   "metadata": {},
   "outputs": [],
   "source": []
  },
  {
   "cell_type": "markdown",
   "metadata": {},
   "source": [
    "## <code>zip()</code> Function <a name='zip' />  \n",
    "Back to <a href = '#navigation'>Navigation</a>\n",
    "\n",
    "The <code>zip()</code> function takes as input two or more lists, tuples, or other iterable data types and outputs a number of tuples equal to the length of the inputs.\n",
    "\n",
    "The 0th elment of the output tuples is the combination of the 0th element from each of the inputs, the 1st element of the output is the combination of the 1st elements from the inputs, and so forth.\n",
    "\n",
    "Statement|Result|\n",
    ":---: | :---: |\n",
    "<code>zip((0,1),(2,3),(4,5))</code>|<code>((0, 2, 4),(1, 3, 5))</code>|\n",
    "\n",
    "If the input tuples represented rows of a matrix, then <code>zip()</code> produces what one can consider the rows of the transpose matrix.\n",
    "\n",
    "Notice that printing the output does not reveal the data, but merely indicates that the result is of the <code>zip</code> data type.  This data type is an example of an <code>iterator</code>, as we have previously discussed.  Its values can be retrieved in a number of ways as demonstrated below."
   ]
  },
  {
   "cell_type": "code",
   "execution_count": null,
   "metadata": {},
   "outputs": [],
   "source": [
    "zip((0,1),(2,3),(4,5))"
   ]
  },
  {
   "cell_type": "markdown",
   "metadata": {},
   "source": [
    "Retrieval with a <code>for</code> loop, list comprehension, and the asterisk, <code>*</code> operator, respectively, and a couple other methods."
   ]
  },
  {
   "cell_type": "code",
   "execution_count": null,
   "metadata": {},
   "outputs": [],
   "source": [
    "for x in zip((0,1),(2,3),(4,5)):\n",
    "    print(x)"
   ]
  },
  {
   "cell_type": "code",
   "execution_count": null,
   "metadata": {},
   "outputs": [],
   "source": [
    "[x for x in zip((0,1),(2,3),(4,5))]"
   ]
  },
  {
   "cell_type": "markdown",
   "metadata": {},
   "source": [
    "The <code>*</code> (asterisk) operator affords the same functionalty as does list comprehension in terms of viewing the result: it unpacks the <code>zip</code> result, which is a tuple of tuples in this case, so the sub-tuples are repacked into a list."
   ]
  },
  {
   "cell_type": "code",
   "execution_count": null,
   "metadata": {},
   "outputs": [],
   "source": [
    "result = zip((0,1),(2,3),(4,5))\n",
    "[*result]"
   ]
  },
  {
   "cell_type": "code",
   "execution_count": null,
   "metadata": {},
   "outputs": [],
   "source": [
    "result = zip((0,1),(2,3),(4,5))\n",
    "list(result)"
   ]
  },
  {
   "cell_type": "code",
   "execution_count": null,
   "metadata": {},
   "outputs": [],
   "source": [
    "result = zip((0,1),(2,3),(4,5))\n",
    "tuple(result)"
   ]
  },
  {
   "cell_type": "markdown",
   "metadata": {},
   "source": [
    "An example where zip is useful is when data for a <code>matplotlib</code> line plot is supplied in a list of lists, with each sublist representing the <code>x</code>-<code>y</code> coordinates of a point.  The data must be transformed into a series of <code>x</code> data and a series of <code>y</code> data in order to be plotted.\n",
    "\n",
    "The <code>zip()</code> function reorganizes those data accordingly and the <code>*</code> operator 'unpacks' the two data series so they can be plotted in the code below."
   ]
  },
  {
   "cell_type": "code",
   "execution_count": null,
   "metadata": {},
   "outputs": [],
   "source": [
    "import matplotlib.pyplot as plt"
   ]
  },
  {
   "cell_type": "code",
   "execution_count": null,
   "metadata": {},
   "outputs": [],
   "source": [
    "data = [[0,0], [1,1], [2,2], [3,0], [4,1], [5,2], [6,0], [7,1], [8,2], [9,0]]"
   ]
  },
  {
   "cell_type": "code",
   "execution_count": null,
   "metadata": {},
   "outputs": [],
   "source": [
    "data_xy = zip(*data)\n",
    "for series in data_xy:\n",
    "    print(series)"
   ]
  },
  {
   "cell_type": "code",
   "execution_count": null,
   "metadata": {},
   "outputs": [],
   "source": [
    "x, y = zip(*data)\n",
    "plt.plot(x, y)\n",
    "plt.show()"
   ]
  },
  {
   "cell_type": "markdown",
   "metadata": {},
   "source": [
    "In a similar way, the <code>zip()</code> function is often used to prepare sets of parameters to be fed into a function in a multiprocessing context, as shown in a simplified example below to compute the distance between a list of origins and another list of corresponding destinations.\n",
    "\n",
    "The code also demonstrate the formatting of output with an <code>f</code> string.\n",
    "  - Curly braces <code>{}</code> indicate where to insert variable values in the string\n",
    "  - Floating-point values can be formatted as indicated with the expression after the colon"
   ]
  },
  {
   "cell_type": "code",
   "execution_count": null,
   "metadata": {},
   "outputs": [],
   "source": [
    "def dist(p, q):\n",
    "    import math\n",
    "    return math.sqrt(sum([abs(p[i] - q[i])**2 for i in range(len(p))]))"
   ]
  },
  {
   "cell_type": "code",
   "execution_count": null,
   "metadata": {},
   "outputs": [],
   "source": [
    "origin = [[0,0], [1,5], [4,2], [8,1]]\n",
    "dest = [[9,5], [1,7], [0,5], [6,2]]\n",
    "\n",
    "arg = zip(origin, dest)\n",
    "\n",
    "for a in arg:\n",
    "    print(f'The distance between {a[0]} and {a[1]} is {dist(*a):.2f}')"
   ]
  },
  {
   "cell_type": "markdown",
   "metadata": {},
   "source": [
    "Note that if the two data structures being zipped do not ahve the same number of elements, then the number of elements being zipped equals the number of elements in the smaller variable."
   ]
  },
  {
   "cell_type": "code",
   "execution_count": null,
   "metadata": {},
   "outputs": [],
   "source": [
    "origin = [[0,0], [1,5], [4,2], [8,1]]\n",
    "dest = [[9,5], [1,7], [0,5]]\n",
    "\n",
    "arg = zip(origin, dest)\n",
    "\n",
    "for a in arg:\n",
    "    print(f'The distance between {a[0]} and {a[1]} is {dist(*a):.2f}')"
   ]
  },
  {
   "cell_type": "markdown",
   "metadata": {},
   "source": [
    "## <code>map()</code> Function <a name='map' />  \n",
    "Back to <a href = '#navigation'>Navigation</a>\n",
    "\n",
    "The <code>map()</code> function takes as its first argument a function and an iterable data type as its second element (e.g., list, tuple).  It applies the function sequentially to each of the elements of the iterable data.\n",
    "\n",
    "The result is a <code>map</code> data type, which is an iterator, as was the case with the <code>zip()</code> function.\n",
    "\n",
    "The applied functions are often <code>lambda</code> functions although custom function and built-in functions can be applied also."
   ]
  },
  {
   "cell_type": "code",
   "execution_count": null,
   "metadata": {},
   "outputs": [],
   "source": [
    "result = map(lambda x:x**2, range(4))\n",
    "type(result)"
   ]
  },
  {
   "cell_type": "code",
   "execution_count": null,
   "metadata": {},
   "outputs": [],
   "source": [
    "result = map(lambda x:x**2, range(4))\n",
    "result"
   ]
  },
  {
   "cell_type": "code",
   "execution_count": null,
   "metadata": {},
   "outputs": [],
   "source": [
    "result = map(lambda x:x**2, range(4))\n",
    "for r in result:\n",
    "    print(r)"
   ]
  },
  {
   "cell_type": "code",
   "execution_count": null,
   "metadata": {},
   "outputs": [],
   "source": [
    "result = map(lambda x:x**2, range(4))\n",
    "[*result]"
   ]
  },
  {
   "cell_type": "code",
   "execution_count": null,
   "metadata": {},
   "outputs": [],
   "source": [
    "result = map(lambda x:x**2, range(4))\n",
    "list(result)"
   ]
  },
  {
   "cell_type": "code",
   "execution_count": null,
   "metadata": {},
   "outputs": [],
   "source": [
    "result = map(lambda x:x**2, range(4))\n",
    "[r for r in result]"
   ]
  },
  {
   "cell_type": "code",
   "execution_count": null,
   "metadata": {},
   "outputs": [],
   "source": [
    "data = ['1', '3', '5', '6', '8']\n",
    "data = map(int, data)\n",
    "data = [*data]\n",
    "print(data)\n",
    "print(type(data[0]))"
   ]
  },
  {
   "cell_type": "markdown",
   "metadata": {},
   "source": [
    "Other <code>map()</code> examples with...\n",
    "\n",
    "- Custom functions\n",
    "- <code>sum</code>\n",
    "- <code>len()</code> function\n",
    "- <code>min()</code> and <code>max()</code> functions"
   ]
  },
  {
   "cell_type": "code",
   "execution_count": null,
   "metadata": {},
   "outputs": [],
   "source": [
    "def sq(x):\n",
    "    return x**2\n",
    "\n",
    "[*map(sq, range(5))]"
   ]
  },
  {
   "cell_type": "code",
   "execution_count": null,
   "metadata": {},
   "outputs": [],
   "source": [
    "data = [[0,1,2,3], [4,5,6,7], [8,9,10,11]]\n",
    "result = map(sum, data)\n",
    "for r in result:\n",
    "    print(r)"
   ]
  },
  {
   "cell_type": "code",
   "execution_count": null,
   "metadata": {},
   "outputs": [],
   "source": [
    "import random\n",
    "\n",
    "my_list = [[random.random() for _ in range(random.randint(1,6))] for _ in range(5)]\n",
    "\n",
    "[*map(len, my_list)]"
   ]
  },
  {
   "cell_type": "code",
   "execution_count": null,
   "metadata": {},
   "outputs": [],
   "source": [
    "[*map(min, my_list)]"
   ]
  },
  {
   "cell_type": "code",
   "execution_count": null,
   "metadata": {},
   "outputs": [],
   "source": [
    "[*map(max, my_list)]"
   ]
  },
  {
   "cell_type": "markdown",
   "metadata": {},
   "source": [
    "## <code>filter()</code> Function  <a name='filter' />  \n",
    "Back to <a href = '#navigation'>Navigation</a>\n",
    "\n",
    "The filter function takes a function as its first argument and a iterable data type as its second argument.  The function is applied to each element of the iterable argument and its output is interpreted as <code>True</code> or <code>False</code>, and it returns only those elements of the iterable argument where the function result is <code>True</code>.\n",
    "\n",
    "Similar to <code>zip()</code> and <code>map()</code>, <code>filter()</code> returns an iterator whose values must be unpacked in order to view them.  The iterator can be used directly in a <code>for</code> loop or list comprehension."
   ]
  },
  {
   "cell_type": "code",
   "execution_count": null,
   "metadata": {},
   "outputs": [],
   "source": [
    "filter(lambda x: x%2 == 0, range(10))"
   ]
  },
  {
   "cell_type": "code",
   "execution_count": null,
   "metadata": {},
   "outputs": [],
   "source": [
    "result = filter(lambda x: x%2 == 0, range(10))\n",
    "[*result]"
   ]
  },
  {
   "cell_type": "code",
   "execution_count": null,
   "metadata": {},
   "outputs": [],
   "source": [
    "result_explain = map(lambda x: x%2 == 0, range(10))\n",
    "[*result_explain]"
   ]
  },
  {
   "cell_type": "code",
   "execution_count": null,
   "metadata": {},
   "outputs": [],
   "source": [
    "import random\n",
    "\n",
    "def big(x):\n",
    "    return x >= 0.5\n",
    "\n",
    "data = [random.random() for _ in range(20)]\n",
    "result = filter(big, data)\n",
    "[*result]"
   ]
  },
  {
   "cell_type": "code",
   "execution_count": null,
   "metadata": {},
   "outputs": [],
   "source": [
    "data = [random.random() for _ in range(20)]\n",
    "result = filter(big, data)\n",
    "\n",
    "while True:\n",
    "    print(next(result))"
   ]
  },
  {
   "cell_type": "markdown",
   "metadata": {},
   "source": [
    "## Applications of <code>zip()</code>,  <code>map()</code>,  and <code>filter()</code> Functions  <a name='apps_zip_map_filter' />  \n",
    "Back to <a href = '#navigation'>Navigation</a>\n",
    "\n",
    "We will use these functions throughout this notebook where they are useful.\n",
    "\n",
    "For now, here are some exercises for absorbing how these functions work."
   ]
  },
  {
   "cell_type": "markdown",
   "metadata": {},
   "source": [
    "### <code>zip()</code> Exercise\n",
    "\n",
    "Suppose you wanted to plot the data below with <code>matplotlib</code>.  Apply the <code>zip()</code> function to reorganize the data into two series, one for the <code>x</code>-axis and one for the <code>y</code>-axis.  you may need to use the <code>*</code> operator as well."
   ]
  },
  {
   "cell_type": "code",
   "execution_count": null,
   "metadata": {},
   "outputs": [],
   "source": [
    "data = [[0,0], [1,2], [2,4], [3,6]]\n"
   ]
  },
  {
   "cell_type": "markdown",
   "metadata": {},
   "source": [
    "Using the <code>*</code> operator and <code>zip()</code> for reorganizing data series."
   ]
  },
  {
   "cell_type": "code",
   "execution_count": null,
   "metadata": {},
   "outputs": [],
   "source": [
    "with open('files/NorfolkWeather1999.csv','r') as f:\n",
    "    nw1999 = f.readlines()\n",
    "\n",
    "for i in range(len(nw1999)):\n",
    "    nw1999[i] = nw1999[i].strip()\n",
    "    nw1999[i] = nw1999[i].split(',')\n",
    "    nw1999[i][0] = int(nw1999[i][0])\n",
    "    nw1999[i][1] = float(nw1999[i][1])\n",
    "\n",
    "''' Create x and y series data '''\n",
    "x, y = zip(*nw1999)\n",
    "plt.plot(x, y, label = '1999')\n",
    "plt.show()"
   ]
  },
  {
   "cell_type": "code",
   "execution_count": null,
   "metadata": {},
   "outputs": [],
   "source": [
    "with open('files/NorfolkWeather1999.csv','r') as f:\n",
    "    nw1999 = f.readlines()\n",
    "convert_map = {0:int, 1:float}\n",
    "nw1999 = ssc_2d_map(convert_map, nw1999)\n",
    "\n",
    "''' Create x and y series data '''\n",
    "x, y1999 = zip(*nw1999)\n",
    "    \n",
    "plt.plot(x, y1999, label = '1999')\n",
    "plt.show()"
   ]
  },
  {
   "cell_type": "markdown",
   "metadata": {},
   "source": [
    "### <code>map()</code> Exercise\n",
    "\n",
    "Write a function to return the strings <code>odd</code> or <code>even</code> depending on the value of an integer passed to it.  Then, use the <code>map()</code> function to apply that function to the list names <code>values</code>."
   ]
  },
  {
   "cell_type": "code",
   "execution_count": null,
   "metadata": {},
   "outputs": [],
   "source": [
    "values = [0, 2, 4, 6, 8, 1, 3, 5, 7, 9]\n",
    "\n"
   ]
  },
  {
   "cell_type": "markdown",
   "metadata": {},
   "source": [
    "### <code>filter()</code> Exercise\n",
    "\n",
    "Use the <code>filter()</code> function to filter out the elements less than 5 from the list <code>values</code>."
   ]
  },
  {
   "cell_type": "code",
   "execution_count": null,
   "metadata": {},
   "outputs": [],
   "source": [
    "values = [0, 2, 4, 6, 8, 1, 3, 5, 7, 9]"
   ]
  },
  {
   "cell_type": "code",
   "execution_count": null,
   "metadata": {},
   "outputs": [],
   "source": []
  },
  {
   "cell_type": "code",
   "execution_count": null,
   "metadata": {},
   "outputs": [],
   "source": []
  },
  {
   "cell_type": "markdown",
   "metadata": {},
   "source": [
    "Transpose the list of lists <code>lol</code> using the <code>zip</code> function."
   ]
  },
  {
   "cell_type": "code",
   "execution_count": null,
   "metadata": {},
   "outputs": [],
   "source": [
    "import random\n",
    "lol= [[random.randint(0,9) for _ in range(3)]  for  _ in range(5)]\n",
    "\n"
   ]
  },
  {
   "cell_type": "markdown",
   "metadata": {},
   "source": [
    "# Iterables, Iterators, and Generators   <a name='ItItGen' />\n",
    "Back to <a href = '#navigation'>Navigation</a>\n",
    "\n",
    "## _Iterables_   <a name='Iterables' />\n",
    "Back to <a href = '#navigation'>Navigation</a>\n",
    "\n",
    "We are all now very familiar with <code>for</code> loops, which provides a basis for an effective functional definition of an _iterable_ data type, which is a data type that:\n",
    "\n",
    "- can contain 0, 1, or many elements\n",
    "- can be used with a <code>for</code> statement so that each element of the _iterable_ data type is made available in the iterations of the <code>for</code> loop\n",
    "\n",
    "<code>for _ in _put-iterable-here_:\n",
    "    ...</code>\n",
    "    \n",
    "These are well-known basic Python _iterable_ data types:\n",
    "\n",
    "- list\n",
    "- range()\n",
    "- tuple\n",
    "- dictionary\n",
    "- set\n",
    "- string\n",
    "\n",
    "The term _iterable_ is often used as a noun, as a short form of '_iterable_ data type'.\n",
    "\n",
    "The cells below illustrate how these data types are iterable in <code>for</code> loops."
   ]
  },
  {
   "cell_type": "code",
   "execution_count": null,
   "metadata": {},
   "outputs": [],
   "source": [
    "my_list = [0, 1, 2]\n",
    "my_range = range(3)\n",
    "my_tup = (0, 1, 2)\n",
    "my_dct = {0:'zero', 1:'one', 2:'two'}\n",
    "my_set = {0, 1, 2}\n",
    "my_str = 'hello'"
   ]
  },
  {
   "cell_type": "code",
   "execution_count": null,
   "metadata": {},
   "outputs": [],
   "source": [
    "for e in my_list:\n",
    "    print(e)"
   ]
  },
  {
   "cell_type": "code",
   "execution_count": null,
   "metadata": {},
   "outputs": [],
   "source": [
    "for e in my_range:\n",
    "    print(e)"
   ]
  },
  {
   "cell_type": "code",
   "execution_count": null,
   "metadata": {},
   "outputs": [],
   "source": [
    "for e in my_tup:\n",
    "    print(e)"
   ]
  },
  {
   "cell_type": "code",
   "execution_count": null,
   "metadata": {},
   "outputs": [],
   "source": [
    "for e in my_dct:\n",
    "    print(e)"
   ]
  },
  {
   "cell_type": "code",
   "execution_count": null,
   "metadata": {},
   "outputs": [],
   "source": [
    "for e in my_dct.items():\n",
    "    print(e)"
   ]
  },
  {
   "cell_type": "code",
   "execution_count": null,
   "metadata": {},
   "outputs": [],
   "source": [
    "for e in my_set:\n",
    "    print(e)"
   ]
  },
  {
   "cell_type": "code",
   "execution_count": null,
   "metadata": {},
   "outputs": [],
   "source": [
    "for e in my_str:\n",
    "    print(e)"
   ]
  },
  {
   "cell_type": "markdown",
   "metadata": {},
   "source": [
    "Computers are powerful because they can iterate through large data sets and make computations.  Iterable data and loops are the programming components that enable that capability. "
   ]
  },
  {
   "cell_type": "markdown",
   "metadata": {},
   "source": [
    "## Iterators  <a name='Iterators' />\n",
    "Back to <a href = '#navigation'>Navigation</a>\n",
    "\n",
    "Iterators are like iterables in that a <code>for</code> loop can be used to present their elements one at a time, but they are different from iterables in these ways:\n",
    "- Only a single pass is permitted through the iterator, in which each of the elements is retrieved once in sequence.\n",
    "  - Once exhausted, no further elements can be retrieved from an iterator without re-creating it.\n",
    "  - Once exhausted, the iterator returns an <code>StopIteration</code> exception which is gracefully handled (you won't see evidence of it) when iterators are used in <code>for</code> loops, for example.\n",
    "- The next iterator element can be retrieved using the <code>next()</code> function.\n",
    "\n",
    "The built-in <code>iter()</code> function creates an iterator from a data type that is a collection of elements.  The cells below illustrate the characteristics above.\n",
    "\n",
    "Iterators can be faster and use less memory than storing an entire list in memory for larger data sets."
   ]
  },
  {
   "cell_type": "code",
   "execution_count": null,
   "metadata": {},
   "outputs": [],
   "source": [
    "it = iter(my_list)"
   ]
  },
  {
   "cell_type": "code",
   "execution_count": null,
   "metadata": {},
   "outputs": [],
   "source": [
    "print(next(it))\n",
    "print(next(it))\n",
    "print(next(it))\n",
    "print(next(it))"
   ]
  },
  {
   "cell_type": "markdown",
   "metadata": {},
   "source": [
    "The code cell below, if executed immediately after the cell above, will return nothing because the iterator is exhausted.  The iterator needs to be reset being using it again.\n",
    "\n",
    "Notice that rather than seeing evidence of an exception/error, instead nothing happens. "
   ]
  },
  {
   "cell_type": "code",
   "execution_count": null,
   "metadata": {},
   "outputs": [],
   "source": [
    "for i in it:\n",
    "    print(i)"
   ]
  },
  {
   "cell_type": "code",
   "execution_count": null,
   "metadata": {},
   "outputs": [],
   "source": [
    "it = iter(my_list)\n",
    "for i in it:\n",
    "    print(i)"
   ]
  },
  {
   "cell_type": "code",
   "execution_count": null,
   "metadata": {},
   "outputs": [],
   "source": [
    "it = iter(range(3))\n",
    "for i in it:\n",
    "    print(i)\n",
    "    \n",
    "# This next statement will cause an error\n",
    "next(it)"
   ]
  },
  {
   "cell_type": "markdown",
   "metadata": {},
   "source": [
    "Just using the <code>iter()</code> on an iterable does not necessarily provide any advantage in speed and memory usage.  But, it is important to understand what an iterator is because some functions that provide speed and memory advantages return iterators.  "
   ]
  },
  {
   "cell_type": "code",
   "execution_count": null,
   "metadata": {},
   "outputs": [],
   "source": [
    "%load_ext memory_profiler"
   ]
  },
  {
   "cell_type": "code",
   "execution_count": null,
   "metadata": {},
   "outputs": [],
   "source": [
    "%%memit\n",
    "\n",
    "with open('files/numbers.txt', 'r') as f:\n",
    "    data = f.readlines()\n",
    "    \n",
    "for i in range(len(data)):\n",
    "    data[i] = int(data[i].strip())\n",
    "    \n",
    "answer = sum(data)\n",
    "answer"
   ]
  },
  {
   "cell_type": "code",
   "execution_count": null,
   "metadata": {},
   "outputs": [],
   "source": [
    "%%memit\n",
    "\n",
    "answer = 0\n",
    "with open('files/numbers.txt', 'r') as f:\n",
    "    answer += int(f.readline().strip())\n",
    "    \n",
    "answer"
   ]
  },
  {
   "cell_type": "markdown",
   "metadata": {},
   "source": [
    "## Generators  <a name='Generators' />\n",
    "Back to <a href = '#navigation'>Navigation</a>\n",
    "\n",
    "Generators are a specific type of iterator.  They have all the characteristics of iterators noted above and, in addition, they create a stream of elements with a _function_ rather than merely regurgitating the elements from an existing data structure.\n",
    "\n",
    "Generators can be defined in two ways:\n",
    "- With a function\n",
    "- With a comprehension statement\n",
    "\n",
    "Our first example is a function that generates the Fibonacci sequence, one term at a time.  If $f_0 = 1$ and $f_1 = 1$  are the first two terms in the Fibonacci sequence, then the remaining terms are defined by:\n",
    "\n",
    "$f_i = f_{i-1} + f_{i-2}$,\n",
    "\n",
    "so that the Fibonacci sequence starts with\n",
    "\n",
    "$f = 1,1,2,3,5,8,13,21,34, ...$."
   ]
  },
  {
   "cell_type": "markdown",
   "metadata": {},
   "source": [
    "A generator function is just like a regular custom function except that it uses <code>yield</code> rather than <code>return</code> to send values back to the calling statement.  <code>yield</code> return a value or values from one iteration of the function, and then causes the function to pause until it is called next.  When called again, the function will continue by executing until its next <code>yield</code> statement."
   ]
  },
  {
   "cell_type": "code",
   "execution_count": null,
   "metadata": {},
   "outputs": [],
   "source": [
    "''' Compute n terms of the Fibonacci sequence '''\n",
    "def fib(n):\n",
    "    t1, t2 = 1, 1\n",
    "    counter = 1\n",
    "    yield t1\n",
    "    \n",
    "    while counter <= n:\n",
    "        counter += 1\n",
    "        t1, t2 = t2, t1 + t2\n",
    "        yield t1"
   ]
  },
  {
   "cell_type": "markdown",
   "metadata": {},
   "source": [
    "Note that two assignments can be executed on the same line, as is done twice in the code above.  "
   ]
  },
  {
   "cell_type": "code",
   "execution_count": null,
   "metadata": {},
   "outputs": [],
   "source": [
    "[x for x in fib(7)]"
   ]
  },
  {
   "cell_type": "markdown",
   "metadata": {},
   "source": [
    "The <code>yield</code> statement automatically causes the <code>StopIteration</code> exception once the function terminates, as demonstrated in the next cell.\n",
    "\n",
    "List comprehension and <code>for</code> loops handle the <code>StopIteration</code> exception gracefully.  That is, they simply stop when the exception is encountered without alerting you to it."
   ]
  },
  {
   "cell_type": "code",
   "execution_count": null,
   "metadata": {},
   "outputs": [],
   "source": [
    "f = fib(7)\n",
    "while True:\n",
    "    print(next(f))"
   ]
  },
  {
   "cell_type": "markdown",
   "metadata": {},
   "source": [
    "Generators may be infinite."
   ]
  },
  {
   "cell_type": "code",
   "execution_count": null,
   "metadata": {},
   "outputs": [],
   "source": [
    "''' Compute an infinite number of terms of the Fibonacci sequence '''\n",
    "def fib_1():\n",
    "    t1, t2 = 1, 1\n",
    "    counter = 1\n",
    "    yield t1\n",
    "    \n",
    "    while True:\n",
    "        counter += 1\n",
    "        t1, t2 = t2, t1 + t2\n",
    "        yield t1"
   ]
  },
  {
   "cell_type": "code",
   "execution_count": null,
   "metadata": {},
   "outputs": [],
   "source": [
    "f = fib_1()\n",
    "[next(f) for _ in range(8)]"
   ]
  },
  {
   "cell_type": "code",
   "execution_count": null,
   "metadata": {},
   "outputs": [],
   "source": [
    "''' The generator is still active '''\n",
    "next(f)"
   ]
  },
  {
   "cell_type": "markdown",
   "metadata": {},
   "source": [
    "Generators may be constructed using comprehension statements, just like lists, dictionaries, and sets by specifying the parameters within parentheses."
   ]
  },
  {
   "cell_type": "code",
   "execution_count": null,
   "metadata": {},
   "outputs": [],
   "source": [
    "g = ((i, i**2) for i in range(7))"
   ]
  },
  {
   "cell_type": "code",
   "execution_count": null,
   "metadata": {},
   "outputs": [],
   "source": [
    "[x for x in g]"
   ]
  },
  {
   "cell_type": "code",
   "execution_count": null,
   "metadata": {},
   "outputs": [],
   "source": [
    "g = ((i, i**2) for i in range(7))\n",
    "while True:\n",
    "    print(next(g))"
   ]
  },
  {
   "cell_type": "markdown",
   "metadata": {},
   "source": [
    "Generators can provide an enormous advantage in speed and memory usage because all the elements they return do not need to be stored in memory simultaneously because they are generated on demand, one at a time."
   ]
  },
  {
   "cell_type": "markdown",
   "metadata": {},
   "source": [
    "## Summary\n",
    "\n",
    "This image from a post on medium.com summarizes the relationship between iterables, iterators, generators, and Python data types that are collections of elements (containers).\n",
    "\n",
    "![Summary](images/0_IBiuORdbv0CTKuia.png)\n",
    "\n",
    "https://tonylixu.medium.com/python-yield-iterator-and-generator-introduction-15be182f6135, retrieved 11/22/2021"
   ]
  },
  {
   "cell_type": "markdown",
   "metadata": {},
   "source": [
    "# Text File Input with Base Python Generators <a name='text_w_gen' />  \n",
    "Back to <a href = '#navigation'>Navigation</a>\n",
    "\n",
    "Why read files with a generator?\n",
    "\n",
    "__Large files can be read faster by generators while using less memory for holding the entire file contents at once as is done with base Python statements__\n",
    "\n",
    "We will demonstrate the speed advantage in the subsequent code cells using a longer version of the Norfolk weather file, which is 1M lines long: <code>files/NorfolkWeatherLong.csv</code>.  Each line has an integer day index and a floating point temperature. \n",
    "\n",
    "<code>%%timeit</code> is a function that is built in to jupyter.  It times the execution of the entire cell into which it is placed."
   ]
  },
  {
   "cell_type": "markdown",
   "metadata": {},
   "source": [
    "## Typical Base Python Method\n",
    "\n",
    "... which takes approximately 1 second to read a large code file."
   ]
  },
  {
   "cell_type": "code",
   "execution_count": null,
   "metadata": {},
   "outputs": [],
   "source": [
    "%%timeit \n",
    "\n",
    "def ssc_2d(file_name):\n",
    "    with open(file_name,'r') as f:\n",
    "        data = [line.strip().split(',') for line in f.readlines()]\n",
    "        data = [[int(point[0]), float(point[1])] for point in data]\n",
    "        return data\n",
    "\n",
    "filename = 'files/NorfolkWeatherLong.csv'\n",
    "nw1999 = ssc_2d(filename)"
   ]
  },
  {
   "cell_type": "markdown",
   "metadata": {},
   "source": [
    "## Large File Input with Base Python Generators\n",
    "\n",
    "The code in the cell below returns a generator that provides access to the text file data.\n",
    "\n",
    "It is almost 10X faster than using list comprehension."
   ]
  },
  {
   "cell_type": "code",
   "execution_count": null,
   "metadata": {},
   "outputs": [],
   "source": [
    "%%timeit\n",
    "\n",
    "def ssc_2d(filename):\n",
    "    with open(filename,'r') as f:\n",
    "        data = (line.strip().split(',') for line in f.readlines())\n",
    "        data = ((int(point[0]), float(point[1])) for point in data)\n",
    "    return data\n",
    "\n",
    "x = ssc_2d('files/NorfolkWeatherLong.csv')"
   ]
  },
  {
   "cell_type": "markdown",
   "metadata": {},
   "source": [
    "We still haven't demonstrated how to use generators to minimize memory usage, but we will do that shortly.\n",
    "\n",
    "Also, these execution times are only for the reading of the data.  We must also consider the ultimate task for which we are inputting the data and the total effect on execution time of using generators.  It is possible to use methods for subsequent plotting or computation that squander the speed gain demonstrated above.    Nonetheless, these quick demonstrations hint at the power and value of generators.\n",
    "\n",
    "Let's consider one use case where we want to plot the first 365 lines of <code>NorfolkWeatherLong.csv</code> (the first year), and let's compare the speed of base Python versus generators.  As previously mentioned, <code>matplotlib</code> will not plot generators, so we need to present it was a list (<code>numpy</code> arrays and <code>pandas</code> series work as well)."
   ]
  },
  {
   "cell_type": "code",
   "execution_count": null,
   "metadata": {},
   "outputs": [],
   "source": [
    "%%timeit\n",
    "\n",
    "def ssc_2d(data):\n",
    "    x = []\n",
    "    y = []\n",
    "    for i in range(len(data)):\n",
    "        data[i] = data[i].strip().split(',')\n",
    "        x.append(int(data[i][0]))\n",
    "        y.append(float(data[i][1]))\n",
    "    return x, y\n",
    "\n",
    "with open('files/NorfolkWeatherLong.csv','r') as f:\n",
    "    nw1999 = f.readlines()\n",
    "x, y = ssc_2d(nw1999)\n",
    "\n",
    "plt.plot(x[:365],y[:365])\n",
    "plt.show()"
   ]
  },
  {
   "cell_type": "code",
   "execution_count": null,
   "metadata": {},
   "outputs": [],
   "source": [
    "%%timeit\n",
    "\n",
    "from itertools import islice\n",
    "\n",
    "def ssc_2d(filename):\n",
    "    with open(filename,'r') as f:\n",
    "        data = (line.strip().split(',') for line in f.readlines())\n",
    "        data = ((int(point[0]), float(point[1])) for point in data)\n",
    "    return data\n",
    "\n",
    "x = ssc_2d('files/NorfolkWeatherLong.csv')\n",
    "\n",
    "plt.plot(*zip(*islice(x, 0, 365)))\n",
    "plt.show()"
   ]
  },
  {
   "cell_type": "markdown",
   "metadata": {},
   "source": [
    "Generators provide access text file data and plot it __6X__ faster!\n",
    "\n",
    "What do <code>\\*zip()</code> and <code>\\*islice()</code> do?\n",
    "- <code>*zip()</code> separates the $x$ and $y$ data, which the <code>ssc_2d()</code> returns as tuples for each data point.\n",
    "- <code>islice()</code> is the slice operator for generators akin the the <code>my_list[start:stop:step]</code> statement for lists.  Here, <code>islice()</code> selects the first 365 data points.  This is much faster than transforming the entire generator to a list and then slicing.  The accompanying <code>*</code> removes the outer container of the data so <code>zip()</code> can reformat the 'loose' sublists of two elements each.\n",
    "\n",
    "Multiple graphs are displayed because <code>%%timeit</code> executes the code multiple times as it profiles its execution time."
   ]
  },
  {
   "cell_type": "code",
   "execution_count": null,
   "metadata": {},
   "outputs": [],
   "source": [
    "from itertools import islice\n",
    "\n",
    "def ssc_2d(filename):\n",
    "    with open(filename,'r') as f:\n",
    "        data = (line.strip().split(',') for line in f.readlines())\n",
    "        data = ((int(point[0]), float(point[1])) for point in data)\n",
    "    return data\n",
    "\n",
    "x = ssc_2d('files/NorfolkWeatherLong.csv')\n",
    "\n",
    "print([*islice(x, 0, 25)], '\\n\\n')\n",
    "print([*zip(*islice(x, 0, 25))])"
   ]
  },
  {
   "cell_type": "markdown",
   "metadata": {},
   "source": [
    "# Computations on Large Text Files with Generators <a name='comp_w_gen' />  \n",
    "Back to <a href = '#navigation'>Navigation</a>\n",
    "\n",
    "Generators provide a subtantial speed advantage and, actually, a feasibility advantage over base Python methods with extremely large data files are concerned.  This is particularly the case when an entire data set cannot be held in memory.  Generators, in this context, can quickly read the data in chunks, thus avoiding the problem of overloading computer memory if all the data were to be loaded at once.  The complication that sometimes arises is that computation methods need to be designed that work with reading the data in chunks and, if a one-pass comptuation is desired, a way to avoid having summary statistics determined by the entire data set, such as the mean."
   ]
  },
  {
   "cell_type": "markdown",
   "metadata": {},
   "source": [
    "## Moving Average Computation<a name='mv_avg' />  \n",
    "Back to <a href = '#navigation'>Navigation</a>\n",
    "\n",
    "To compute moving averages with streamed data, we need to amend the approach above where only one value was read at a time.  With an $n$-period moving average, we need to keep track of $n$ numbers at a time while maintaining a moving window with those values in an efficient manner.  We need to consider what are the best data types to:\n",
    "- Quickly update the moving window data as we stream the data\n",
    "- Quickly compute the mean\n",
    "\n",
    "There is not necessarily one data type that will be best for both, so we will need to investigate.  Two possibilities are:\n",
    "- <code>numpy</code> arrays\n",
    "  - These have built-in methods for computing means, which are fast\n",
    "- Python lists\n",
    "  - Might be fast for this application if used properly (avoiding <code>append</code>, but need to compute mean using <code>sum()</code> function, which might be slower then <code>numpy</code>.\n",
    "  - In the code below, a scheme is used where the oldest data element in an $n$-element list is overwritten with the newest element, before taking the average.\n",
    "  \n",
    "Let's use a larger set of 1999 Norfolk weather data: <code>files/NorfolkWeatherLong.csv</code>.\n",
    "\n",
    "The three code sets below represent these approaches:\n",
    "\n",
    "- Using basic Python without list comprehension\n",
    "- Using basic Python with list comprehension\n",
    "- Using <code>numpy</code> \n",
    "- Using a Python generator function\n",
    "\n",
    "A version of the function <code>ssc_2d_map()</code> is repeated for convenience below, which extracts the temperature data only."
   ]
  },
  {
   "cell_type": "code",
   "execution_count": null,
   "metadata": {},
   "outputs": [],
   "source": [
    "def ssc_2d_map(file, convert):\n",
    "    with open(file, 'r') as f:\n",
    "        data = f.readlines()\n",
    "    \n",
    "    for i in range(len(data)):\n",
    "        data[i] = data[i].strip().split(',')\n",
    "        for j, mk_type in convert.items():\n",
    "            data[i][j] = mk_type(data[i][j])\n",
    "    return [x[1] for x in data]"
   ]
  },
  {
   "cell_type": "code",
   "execution_count": null,
   "metadata": {},
   "outputs": [],
   "source": [
    "import time\n",
    "import matplotlib.pyplot as plt\n",
    "\n",
    "period = 10\n",
    "filepath = 'files/NorfolkWeatherLong.csv'\n",
    "convert_map = {0:int, 1:float}\n",
    "\n",
    "start = time.time()\n",
    "\n",
    "data = ssc_2d_map(filepath, convert_map)\n",
    "ma = []  # Initialize moving average\n",
    "\n",
    "for i in range(0, len(data) - period + 1):\n",
    "    ma.append(sum(data[i:i + period])/period)\n",
    "\n",
    "plt.plot(ma[:365])\n",
    "plt.show()\n",
    "\n",
    "print(f'Execution time: {float(time.time() - start): .2f} seconds')"
   ]
  },
  {
   "cell_type": "code",
   "execution_count": null,
   "metadata": {},
   "outputs": [],
   "source": [
    "import time\n",
    "import matplotlib.pyplot as plt\n",
    "\n",
    "period = 10\n",
    "filepath = 'files/NorfolkWeatherLong.csv'\n",
    "\n",
    "start = time.time()\n",
    "\n",
    "data = ssc_2d_map(filepath, convert_map)\n",
    "ma = [sum(ma[i:i + period])/period for i in range(0,len(ma) - period + 1)]\n",
    "\n",
    "plt.plot(ma[:365])\n",
    "plt.show()\n",
    "\n",
    "print(f'Execution time: {float(time.time() - start): .2f} seconds')"
   ]
  },
  {
   "cell_type": "code",
   "execution_count": null,
   "metadata": {},
   "outputs": [],
   "source": [
    "import numpy as np\n",
    "import time\n",
    "import matplotlib.pyplot as plt\n",
    "\n",
    "def read_a_line(filename):\n",
    "    with open(filename,'r') as f:\n",
    "        for line in f:\n",
    "            yield float(line.strip().split(',')[1])\n",
    "\n",
    "start = time.time()\n",
    "window = 10\n",
    "filepath = 'files/NorfolkWeatherLong.csv'\n",
    "read_temp = read_a_line(filepath)\n",
    "mv_avg = []\n",
    "\n",
    "''' Create variable for moving window '''\n",
    "mv_win = np.zeros((window,), dtype=np.float32)\n",
    "\n",
    "''' Fill window with initial data '''\n",
    "for i in range(window - 1):\n",
    "    mv_win[i] = next(read_temp)\n",
    "    \n",
    "for temp in read_temp:\n",
    "    i += 1\n",
    "    mv_win[i%window] = temp\n",
    "    mv_avg.append(np.mean(mv_win))\n",
    "\n",
    "plt.plot(mv_avg[:365])\n",
    "plt.show()\n",
    "\n",
    "print(f'Execution time: {float(time.time() - start): .2f} seconds')"
   ]
  },
  {
   "cell_type": "markdown",
   "metadata": {},
   "source": [
    "With a Python generator."
   ]
  },
  {
   "cell_type": "code",
   "execution_count": null,
   "metadata": {},
   "outputs": [],
   "source": [
    "import time\n",
    "import matplotlib.pyplot as plt\n",
    "\n",
    "def read_a_line(filename):\n",
    "    with open(filename,'r') as f:\n",
    "        for line in f:\n",
    "            yield float(line.strip().split(',')[1])\n",
    "\n",
    "start = time.time()\n",
    "window = 10\n",
    "filepath = 'files/NorfolkWeatherLong.csv'\n",
    "read_temp = read_a_line(filepath)\n",
    "mv_avg = []\n",
    "\n",
    "''' Create variable for moving window '''\n",
    "mv_win = [0 for i in range(window)]\n",
    "\n",
    "''' Fill window with initial data '''\n",
    "for i in range(window - 1):\n",
    "    mv_win[i] = next(read_temp)\n",
    "    \n",
    "for temp in read_temp:\n",
    "    i += 1\n",
    "    mv_win[i%window] = temp\n",
    "    mv_avg.append(sum(mv_win)/window)\n",
    "\n",
    "plt.plot(mv_avg[:365])\n",
    "plt.show()\n",
    "\n",
    "print(f'Execution time: {float(time.time() - start): .2f} seconds')"
   ]
  },
  {
   "cell_type": "markdown",
   "metadata": {},
   "source": [
    "The downsides and weaknesses of generators are due to entire file contents not being held in memory at any one time:\n",
    "- Any processing/computations of the file contents must be done in chunks\n",
    "- Any portion of the input data that will be plotted in <code>matplotlib</code> must be in a list or similar data struture.\n",
    "  - <code>matplotlib</code> does not take generators\n",
    "\n",
    "This code reads one line at a time, although the best performing generators read files in larger _chunks_.\n",
    "\n",
    "We could optimize inputting a text file using the base Python <code>open()</code> statement by finding the best _chunk size_ (number of lines) to read in each iteration, which I have done in the code cells below.  But, the <code>pandas</code> package permits us to read files in _chunks_ and permits us to create a generator to do so, as we demonstrate in the next section."
   ]
  },
  {
   "cell_type": "markdown",
   "metadata": {},
   "source": [
    "## NYC Taxi Data <a name='nyc' />  \n",
    "Back to <a href = '#navigation'>Navigation</a>\n",
    "\n",
    "Let's start investigating generators with a somewhat large data set on New York City Taxis.\n",
    "\n",
    "[NYC Taxi Cab Data](https://www.kaggle.com/c/new-york-city-taxi-fare-prediction/data)\n",
    "\n",
    "This data is about 5.5GB, so it is unlikely to crash your computer, but loading it all into RAM, or attempting to, could be very slow and cause your computer to continually swap data between the hard drive and memory, which is very slow.  \n",
    "\n",
    "We will investigate several methods for loading the data and computing a frequency histogram for the number of passengers while paying attention to speed and memory consumption.\n",
    "- Basic Python: reading all of the data at once.\n",
    "- Basic Python with a generator\n",
    "- Basic Python with a generator function\n",
    "- <code>pandas</code>\n",
    "\n",
    "Please note these methods in the cells that follow:\n",
    "- The 'f' string used to format the output.\n",
    "- The <code>dict.get()</code> statement, which allows a default value to be assigned to a new key if it doesn't already exist in the dictionary.  The effect of <code>fh.get(num_pass, 0)</code> is that is creates a new dictionary element with a key of <code>num_pass</code> if that key doesn't exist and assigns a corrseponding value of zero.  If the key exists, then this statement simply gets the value associates with the key <code>num_pass</code>.\n",
    "- The so-called walrus operator (:=), which permits an assignment statement within a loop declarion or conditional statement\n",
    "- The generator also strips whitespace from the ends of the line of text, including <code>\\n</code>, while splitting it at the commas. \n",
    "- The generator conveniently takes a filename and opens the file within the function rather than needs a filestream passed to it."
   ]
  },
  {
   "cell_type": "markdown",
   "metadata": {},
   "source": [
    "Basic Python reading the entire file at one time"
   ]
  },
  {
   "cell_type": "code",
   "execution_count": null,
   "metadata": {},
   "outputs": [],
   "source": [
    "import time\n",
    "\n",
    "start = time.time()\n",
    "file_name = 'files/new-york-city-taxi-fare-prediction/train.csv'\n",
    "#read_gen = read_one_line(file_name, skip_first=True)\n",
    "fh = {}\n",
    "\n",
    "with open(file_name, 'r') as f:\n",
    "    _ = f.readline()  # Skips header line\n",
    "    data = f.readlines()\n",
    "\n",
    "for pt in data:\n",
    "    pt = pt.strip().split(',')\n",
    "    pt = int(pt[7])\n",
    "    fh[pt] = fh.get(pt, 0) + 1\n",
    "        \n",
    "print(fh)\n",
    "print(f'Execution time: {float(time.time() - start): .2f} seconds')"
   ]
  },
  {
   "cell_type": "markdown",
   "metadata": {},
   "source": [
    "A filestream is actually a generator and so we can use it to read one line at a time, thus reducing memory usage significantly: we never consume more memory than is needed to for one line from the text file."
   ]
  },
  {
   "cell_type": "code",
   "execution_count": null,
   "metadata": {},
   "outputs": [],
   "source": [
    "import time\n",
    "\n",
    "start = time.time()\n",
    "file_name = 'files/new-york-city-taxi-fare-prediction/train.csv'\n",
    "#read_gen = read_one_line(file_name, skip_first=True)\n",
    "fh = {}\n",
    "\n",
    "with open(file_name, 'r') as f:\n",
    "    _ = f.readline()  # Skips header line\n",
    "    while (num_pass := f.readline()) != '':\n",
    "        num_pass = num_pass.strip().split(',')\n",
    "        num_pass = int(num_pass[7])\n",
    "        fh[num_pass] = fh.get(num_pass, 0) + 1\n",
    "        \n",
    "print(fh)\n",
    "print(f'Execution time: {float(time.time() - start): .2f} seconds')"
   ]
  },
  {
   "cell_type": "markdown",
   "metadata": {},
   "source": [
    "Here's the generator function for the second approach, with the <code>read_one_line</code> function: it uses a <code>yield</code> statement rather than <code>return</code> and so it is a generator function. "
   ]
  },
  {
   "cell_type": "code",
   "execution_count": null,
   "metadata": {},
   "outputs": [],
   "source": [
    "def read_one_line(filename, skip_first=True):\n",
    "    with open(filename, 'r') as f:\n",
    "        if skip_first:\n",
    "            x = f.readline()\n",
    "        while (x := f.readline()) != '':\n",
    "            yield x.strip().split(',')"
   ]
  },
  {
   "cell_type": "code",
   "execution_count": null,
   "metadata": {},
   "outputs": [],
   "source": [
    "import time\n",
    "\n",
    "start = time.time()\n",
    "file_name = 'files/new-york-city-taxi-fare-prediction/train.csv'\n",
    "read_gen = read_one_line(file_name, skip_first=True)\n",
    "fh = {}\n",
    "\n",
    "for line in read_gen:\n",
    "    num_pass = int(line[7])\n",
    "    fh[num_pass] = fh.get(num_pass, 0) + 1\n",
    "        \n",
    "print(fh)\n",
    "print(f'Execution time: {float(time.time() - start): .2f} seconds')"
   ]
  },
  {
   "cell_type": "markdown",
   "metadata": {},
   "source": [
    "The following cells show an example of how you might try to speed up data input by reading multiple lines with each function call.  The code becomes a bit more complex and, in this case, does not provide much advantage."
   ]
  },
  {
   "cell_type": "code",
   "execution_count": null,
   "metadata": {},
   "outputs": [],
   "source": [
    "from itertools import islice\n",
    "    \n",
    "def read_chunks(filepath, chunksize, skip_first):\n",
    "    with open(filepath, 'r') as f:\n",
    "        if skip_first:\n",
    "            _ = f.readline()\n",
    "        while True:\n",
    "            lines = islice(f, chunksize)\n",
    "            if a:=[*lines]:\n",
    "                yield (x.strip().split(',') for x in a)\n",
    "            else:\n",
    "                break\n",
    "            \n",
    "            #yield (next(f, '').strip().split(',') for _ in range(chunksize))\n",
    "            "
   ]
  },
  {
   "cell_type": "code",
   "execution_count": null,
   "metadata": {},
   "outputs": [],
   "source": [
    "import time\n",
    "\n",
    "start = time.time()\n",
    "file_name = 'files/new-york-city-taxi-fare-prediction/train.csv'\n",
    "read_gen = read_chunks(file_name, 10000, skip_first=True)\n",
    "fh = {}\n",
    "\n",
    "for chunk in read_gen:\n",
    "    for line in chunk:\n",
    "        num_pass = int(line[7])\n",
    "        fh[num_pass] = fh.get(num_pass, 0) + 1\n",
    "        \n",
    "print(fh)\n",
    "print(f'Execution time: {float(time.time() - start): .2f} seconds')"
   ]
  },
  {
   "cell_type": "markdown",
   "metadata": {},
   "source": [
    "The <code>pandas</code> package also provides a method for reading data in chunks.  This requires that we combine the results from multiple <code>value_counts()</code> operations, which create frequency histograms.  In this circumstance, <code>pandas</code> does not speed up the operation, as indicated by the graph below.  In addition, using Python to read one line at a time consumes much less memory than is required for the chunksizes required by <code>pandas</code> for reasonably fast execution.\n",
    "\n",
    "While packages like <code>pandas</code> can provide some wonderful functionality, in some cases basic Python can be faster."
   ]
  },
  {
   "cell_type": "code",
   "execution_count": null,
   "metadata": {},
   "outputs": [],
   "source": [
    "import pandas as pd\n",
    "import time\n",
    "\n",
    "start = time.time()\n",
    "\n",
    "fh = pd.Series(dtype='int64')\n",
    "for chunk in pd.read_csv('files/new-york-city-taxi-fare-prediction/train.csv', chunksize=2000000):\n",
    "    fh = fh.add(chunk['passenger_count'].value_counts(), fill_value=0)\n",
    "print(fh)\n",
    "print(f'Execution time: {float(time.time() - start): .2f} seconds')"
   ]
  },
  {
   "cell_type": "markdown",
   "metadata": {},
   "source": [
    "Graph of <code>pandas</code> execution time versus chunksize."
   ]
  },
  {
   "cell_type": "code",
   "execution_count": null,
   "metadata": {},
   "outputs": [],
   "source": [
    "import matplotlib.pyplot as plt\n",
    "\n",
    "p_time = {1000: 63.54459285736084,\n",
    " 10000: 62.875988245010376,\n",
    " 100000: 62.655011892318726,\n",
    " 1000000: 63.9449999332428,\n",
    " 2000000: 64.10800004005432,\n",
    " 5000000: 64.95298767089844,\n",
    " 10000000: 65.6650767326355}\n",
    "\n",
    "fig,ax = plt.subplots()\n",
    "x = [x for x in p_time.keys()]\n",
    "y = [y for y in p_time.values()]\n",
    "y2 = [62.5 for _ in range(len(x))]\n",
    "ax.scatter(x, y, c='b', label='pandas')\n",
    "ax.scatter(x, y2, c='gray', label='Basic Python')\n",
    "for i in range(len(p_time.keys())-1):\n",
    "    ax.plot(x[i:i+2], y[i:i+2], c='b')\n",
    "    ax.plot(x[i:i+2], y2[i:i+2], c='gray')\n",
    "ax.set_ylabel('Execution Time (sec)')\n",
    "ax.set_xlabel('Chunksize (lines)')\n",
    "ax.legend()\n",
    "plt.show()"
   ]
  },
  {
   "cell_type": "markdown",
   "metadata": {},
   "source": [
    "__Best Approach?:__ the best approach here is arguably to use the filestream generator directly in your code (or use a function) to access one line at a time.  It is close to the fastest approach and minimizes memory consumption."
   ]
  },
  {
   "cell_type": "markdown",
   "metadata": {},
   "source": [
    "## One-pass versus Two-pass Computations <a name='1_2_pass' />  \n",
    "Back to <a href = '#navigation'>Navigation</a>\n",
    "\n",
    "Suppose we are interested in computing the standard deviation of the number of riders.  Having already computed the frequency histogram data we could compute the standard deviation directly.  But, this is not possible if our data were floating-point and we needed to construct _bins_, in which case computing standard deviation from the frequency data would be only an approximation. \n",
    "\n",
    "This formula is typically used to compute the variance (from which we compute standard deviation) of a series of $n$ values:\n",
    "\n",
    "$ \\sum_{i=0}^{n-1}{\\left( x_i - \\bar{x} \\right)^2}$.\n",
    "\n",
    "This computation requires that we know the mean of $x$, $\\bar{x}$ prior to summing the squared differences.  When the data is in a list (in memory), this is easy as shown in the next cell for a range of integers."
   ]
  },
  {
   "cell_type": "code",
   "execution_count": null,
   "metadata": {},
   "outputs": [],
   "source": [
    "import random\n",
    "\n",
    "n = 10\n",
    "x = [i for i in range(n)]\n",
    "x_bar = sum(x) / n\n",
    "x_var = sum([(z - x_bar)**2 for z in x])/n\n",
    "print(f'Variance: {x_var: .2f}')"
   ]
  },
  {
   "cell_type": "markdown",
   "metadata": {},
   "source": [
    "Using a generator, however, presents an issue because computing the <code>sum()</code> of generator in the code cell below exhausts the generator and so no data remains in <code>x</code> to iterate over when computing <code>x_var</code>.  The result is a variance of 0, which is incorrect."
   ]
  },
  {
   "cell_type": "code",
   "execution_count": null,
   "metadata": {},
   "outputs": [],
   "source": [
    "n = 10\n",
    "x = (i for i in range(n))\n",
    "x_bar = sum(x) / n\n",
    "x_var = sum([(z - x_bar)**2 for z in x])/n\n",
    "print(f'Variance: {x_var: .2f}')"
   ]
  },
  {
   "cell_type": "markdown",
   "metadata": {},
   "source": [
    "The generator needs to be reset in order to make this second computation and so using a generator makes this a _two-pass_ computation."
   ]
  },
  {
   "cell_type": "code",
   "execution_count": null,
   "metadata": {},
   "outputs": [],
   "source": [
    "n = 10\n",
    "x = (i for i in range(n))\n",
    "x_bar = sum(x) / n\n",
    "\n",
    "x = (i for i in range(n))\n",
    "x_var = sum([(z - x_bar)**2 for z in x])/n\n",
    "print(f'Variance: {x_var: .2f}')"
   ]
  },
  {
   "cell_type": "markdown",
   "metadata": {},
   "source": [
    "If we were to compute the variance of number of passengers in a New York City taxi in this fashion, we therefore need to instantiate the generator twice."
   ]
  },
  {
   "cell_type": "code",
   "execution_count": null,
   "metadata": {},
   "outputs": [],
   "source": [
    "import time\n",
    "\n",
    "start = time.time()\n",
    "file_name = 'files/new-york-city-taxi-fare-prediction/train.csv'\n",
    "\n",
    "print('Computing mean: ', end='')\n",
    "num_pass_sum = 0\n",
    "n = 0\n",
    "read_gen = read_one_line(file_name, skip_first=True)\n",
    "for line in read_gen:\n",
    "    num_pass_sum += int(line[7])\n",
    "    n += 1\n",
    "num_pass_mean = num_pass_sum/n\n",
    "print(f'{float(time.time() - start): .2f} seconds, mean = {num_pass_mean}')\n",
    "      \n",
    "print(f'Computing variance: ', end='')\n",
    "num_pass_var = 0.0\n",
    "read_gen = read_one_line(file_name, skip_first=True)\n",
    "for line in read_gen:\n",
    "    num_pass_var += (int(line[7]) - num_pass_mean)**2\n",
    "num_pass_var = num_pass_var/n\n",
    "print(f'{float(time.time() - start): .2f} seconds; Variance = {num_pass_var}')"
   ]
  },
  {
   "cell_type": "markdown",
   "metadata": {},
   "source": [
    "To confirm, compute variance from frequency data."
   ]
  },
  {
   "cell_type": "code",
   "execution_count": null,
   "metadata": {},
   "outputs": [],
   "source": [
    "n = sum([v for k,v in fh.items()])\n",
    "mean = sum([k*v for k,v in fh.items()])/n\n",
    "var = sum([v/n * (k - mean)**2 for k,v in fh.items()])\n",
    "print(f'n: {n}; Mean: {mean}; Variance: {var}')"
   ]
  },
  {
   "cell_type": "markdown",
   "metadata": {},
   "source": [
    "Using $Var[X] = {\\bf E}[X^2] - {\\bf E}[X]^2$ and the generator in a _one-pass_ method (although there might be some numerical stability issues with this approach sometimes)."
   ]
  },
  {
   "cell_type": "code",
   "execution_count": null,
   "metadata": {},
   "outputs": [],
   "source": [
    "import time\n",
    "\n",
    "start = time.time()\n",
    "file_name = 'files/new-york-city-taxi-fare-prediction/train.csv'\n",
    "\n",
    "m_x = 0\n",
    "m_x_sq = 0\n",
    "n = 0\n",
    "read_gen = read_one_line(file_name, skip_first=True)\n",
    "for line in read_gen:\n",
    "    d = int(line[7])\n",
    "    m_x += d\n",
    "    m_x_sq += d**2\n",
    "    n += 1\n",
    "mean = m_x/n\n",
    "print(f'Execution in {float(time.time() - start): .2f} seconds; mean = {mean}; variance = {m_x_sq/n - (mean**2)}')"
   ]
  },
  {
   "cell_type": "markdown",
   "metadata": {},
   "source": [
    "_One-pass_ approximations to variance are possible (that are numerically stable).  Here is one.  Don't worry about the details of the computation: the main point is that variance can be approximated accurately in one-pass.  In case you do want to lok at the details, here is a reference:\n",
    "\n",
    "[https://planetmath.org/onepassalgorithmtocomputesamplevariance](https://planetmath.org/onepassalgorithmtocomputesamplevariance)"
   ]
  },
  {
   "cell_type": "code",
   "execution_count": null,
   "metadata": {},
   "outputs": [],
   "source": [
    "import time\n",
    "\n",
    "start = time.time()\n",
    "file_name = 'files/new-york-city-taxi-fare-prediction/train.csv'\n",
    "\n",
    "print('Computing mean: ', end='')\n",
    "num_pass_sum = 0\n",
    "n = 0\n",
    "read_gen = read_one_line(file_name, skip_first=True)\n",
    "for line in read_gen:\n",
    "    num_pass_sum += int(line[7])\n",
    "    n += 1\n",
    "num_pass_mean = num_pass_sum/n\n",
    "print(f'{float(time.time() - start): .2f} seconds, mean = {num_pass_mean}')\n",
    "      \n",
    "print(f'Computing variance')\n",
    "num_pass_var = 0.0\n",
    "read_gen = read_one_line(file_name, skip_first=True)\n",
    "for line in read_gen:\n",
    "    num_pass_var += (int(line[7]) - num_pass_mean)**2\n",
    "num_pass_var = num_pass_var/n\n",
    "print(f'Total execution time: {float(time.time() - start): .2f} seconds; Variance = {num_pass_var}')"
   ]
  },
  {
   "cell_type": "markdown",
   "metadata": {},
   "source": [
    "Lessons:\n",
    "- Streaming big data is a reasonably fast and memory-efficient tactic\n",
    "- Making computations with streamed data requires consideration of many approaches evaluated in terms of\n",
    "  - Number of passes required\n",
    "  - Numerical stability"
   ]
  },
  {
   "cell_type": "markdown",
   "metadata": {},
   "source": [
    "# Measuring Execution Time and Memory Consumption  <a name='time_mem' />  \n",
    "Back to <a href = '#navigation'>Navigation</a>\n",
    "\n",
    "We will demonstrate these techniques for measuring execution time:\n",
    "- Various applications of the built-in <code>timeit</code> command\n",
    "- The <code>line_profiler</code> package\n",
    "\n",
    "We will demonstrate these techniques for measuring memory usage:\n",
    "- The <code>memit</code> command\n",
    "- The <code>memory_profiler</code> package\n",
    "\n",
    "The usage of these techniques varies depending on the programming context, whether it be in Jupyter, in Spyder, or on the command line.  Some do not work well in Jupyter, if at all.\n",
    "\n",
    "__Warning:__ Ensure that the code in a cell runs correctly before using <code>%%timeit</code> to measure cell execution time.  <code>%%timeit</code> will also sometimes mute the printout."
   ]
  },
  {
   "cell_type": "markdown",
   "metadata": {},
   "source": [
    "## Execution Time  <a name='time' />  \n",
    "Back to <a href = '#navigation'>Navigation</a>\n",
    "\n",
    "First, let's take a look at:\n",
    "- <code>%timeit</code> to measure execution time of one _statement_\n",
    "- <code>%%timeit</code> to measure execution time of one _cell_"
   ]
  },
  {
   "cell_type": "code",
   "execution_count": null,
   "metadata": {},
   "outputs": [],
   "source": [
    "x = 2\n",
    "%timeit y = x**2"
   ]
  },
  {
   "cell_type": "code",
   "execution_count": null,
   "metadata": {},
   "outputs": [],
   "source": [
    "%%timeit\n",
    "\n",
    "x = []\n",
    "for i in range(1000):\n",
    "    x.append(random.random())"
   ]
  },
  {
   "cell_type": "code",
   "execution_count": null,
   "metadata": {},
   "outputs": [],
   "source": [
    "%%timeit\n",
    "\n",
    "x = [random.random() for i in range(1000)]"
   ]
  },
  {
   "cell_type": "markdown",
   "metadata": {},
   "source": [
    "<code>%%timeit</code> does not break down execution time line-by-line, but <code>line_profiler</code> does, but it requires installation with this statemment in an Anaconda Command prompt run as an administrator:\n",
    "\n",
    "<code>conda install -c conda-forge line_profiler</code>\n",
    "\n",
    "Once installed, <code>line_profiler</code> is loaded into the Jupyter notebook with the statement in the following cell."
   ]
  },
  {
   "cell_type": "code",
   "execution_count": null,
   "metadata": {},
   "outputs": [],
   "source": [
    "%load_ext line_profiler"
   ]
  },
  {
   "cell_type": "markdown",
   "metadata": {},
   "source": [
    "Once loaded, two methods of using <code>line_profiler</code> are demonstrated below.\n",
    "\n",
    "The first is this, using what is called a function decorator.  There are a couple new things in this cell, which we will describe.\n",
    "\n",
    "Having defined a line profiler object with <code>lp = LineProfiler()</code>, the <code>lp</code> function wrapper can be applied multiple times to multiple functions and the execution times are accumulated in the reported statistics, which are obtained with the <code>lp.print_stats()</code> statement."
   ]
  },
  {
   "cell_type": "code",
   "execution_count": null,
   "metadata": {},
   "outputs": [],
   "source": [
    "from line_profiler import LineProfiler\n",
    "import numpy as np\n",
    "\n",
    "def make_list(n):\n",
    "    x = np.random.random(n)\n",
    "    return x\n",
    "\n",
    "if __name__ == '__main__':\n",
    "    lp = LineProfiler()\n",
    "    lp_wrapper = lp(make_list)\n",
    "    lp_wrapper(100_000)\n",
    "    lp.print_stats()"
   ]
  },
  {
   "cell_type": "code",
   "execution_count": null,
   "metadata": {},
   "outputs": [],
   "source": [
    "from line_profiler import LineProfiler\n",
    "import numpy as np\n",
    "\n",
    "def make_list(n):\n",
    "    x = np.random.random(n)\n",
    "    return x\n",
    "\n",
    "def make_list2(n):\n",
    "    x = np.random.random(n)\n",
    "    return x\n",
    "\n",
    "if __name__ == '__main__':\n",
    "    lp = LineProfiler()\n",
    "    lp_wrapper = lp(make_list)\n",
    "    lp_wrapper(100_000)\n",
    "    lp_wrapper1 = lp(make_list2)\n",
    "    lp_wrapper1(10_000)\n",
    "    lp.print_stats()"
   ]
  },
  {
   "cell_type": "markdown",
   "metadata": {},
   "source": [
    "The second method requires that a function be defined and then calling <code>line_profiler</code> with <code>%lprun</code>.\n",
    "\n",
    "The output does not appear within the Jupyter notebook, but in a window that pops up at the bottom of the notebook."
   ]
  },
  {
   "cell_type": "code",
   "execution_count": null,
   "metadata": {},
   "outputs": [],
   "source": [
    "def make_list_1(n):\n",
    "    x = np.random.random(n)\n",
    "    return x"
   ]
  },
  {
   "cell_type": "code",
   "execution_count": null,
   "metadata": {},
   "outputs": [],
   "source": [
    "%lprun -f make_list_1 make_list_1(100_000)"
   ]
  },
  {
   "cell_type": "markdown",
   "metadata": {},
   "source": [
    "The execution time documented line by line points out the most time consuming steps, which are targets for coding improvements to reduce execution time."
   ]
  },
  {
   "cell_type": "markdown",
   "metadata": {},
   "source": [
    "## Memory Usage Profiling <a name='memory' />  \n",
    "Back to <a href = '#navigation'>Navigation</a>\n",
    "\n",
    "Measuring memory usage requires that the <code>conda install -c conda-forge memory_profiler</code> package be installed in an Anaconda command prompt run as an administrator with this command:\n",
    "\n",
    "<code>conda install -c conda-forge memory_profiler</code>\n",
    "\n",
    "Once installed, the <code>memory_profiler</code> package needs to be loaded into the Jupyter notebook with this command:\n",
    "\n",
    "<code>%load_ext memory_profiler</code>"
   ]
  },
  {
   "cell_type": "code",
   "execution_count": null,
   "metadata": {},
   "outputs": [],
   "source": [
    "%load_ext memory_profiler"
   ]
  },
  {
   "cell_type": "markdown",
   "metadata": {},
   "source": [
    "### <code>%%memit</code>\n",
    "\n",
    "This gives a quick, but not detailed indication of memory usage in Jupyter.  It reports the total memory required to execute code in a cell.\n",
    "\n",
    "It is best to delete variables used in a cell that is measured.  Otherwise, the incremental memory usage reported will reflect only the incremental increase in such variables already in use, which might be zero if you are replacing the variable with something that consumes less memory."
   ]
  },
  {
   "cell_type": "code",
   "execution_count": null,
   "metadata": {},
   "outputs": [],
   "source": [
    "try:\n",
    "    del x\n",
    "except:\n",
    "    pass"
   ]
  },
  {
   "cell_type": "code",
   "execution_count": null,
   "metadata": {},
   "outputs": [],
   "source": [
    "%%memit\n",
    "\n",
    "x = []\n",
    "for i in range(1_000_000):\n",
    "    x.append(random.random())"
   ]
  },
  {
   "cell_type": "code",
   "execution_count": null,
   "metadata": {},
   "outputs": [],
   "source": [
    "try:\n",
    "    del y\n",
    "except:\n",
    "    pass"
   ]
  },
  {
   "cell_type": "code",
   "execution_count": null,
   "metadata": {},
   "outputs": [],
   "source": [
    "%%memit\n",
    "\n",
    "y = [random.random() for i in range(1_000_000)]"
   ]
  },
  {
   "cell_type": "markdown",
   "metadata": {},
   "source": [
    "### <code>memory_profiler</code>\n",
    "\n",
    "This package gives memory usage line-by-line and, therefore, provides much advantage over <code>%%memit</code> in pinpointing areas of opportunity.\n",
    "\n",
    "<code>memory_profiler</code> must be installed with this command in an Anaconda command prompt run as an administrator:\n",
    "\n",
    "<code>conda install -c conda-forge memory_profiler</code>\n",
    "\n",
    "The <code>memory_profiler</code> can be run in Jupyter, although I strongly discourage that for myriad reasons including frequent results that clearly cannot be true and needing to create a <code>.py</code> code file outside of Jupyter to be analyzed.  \n",
    "\n",
    "So, if you need to create a code file outside of Jupyter, then it makes sense to run <code>memory_profiler</code> either on the command line or in Spyder, as detailed below."
   ]
  },
  {
   "cell_type": "markdown",
   "metadata": {},
   "source": [
    "### <code>memory_profiler</code>  on the Command Line \n",
    "\n",
    "<code>memory_profiler</code> can analyze only code that is contained in a function.  Here is how it is applied to a function <code>make_rnd()</code> within a file <code>rnd.py</code>, which is contained in the same folder as this Jupyter notebook.\n",
    "\n",
    "![rnd_py.jpg](images/rnd_py.jpg)\n",
    "\n",
    "Of note in the code are these:\n",
    "- The <code>profile</code> function is imported from <code>memory_profiler</code> with an alias of <code>mem_profile</code>.  (The alias is used to keep the <code>memory_profiler</code> <code>profile</code> function distinct from that same name for the <code>line_profiler</code> package.\n",
    "- The 'decorator' <code>@mem_profile</code> on the <code> make_rnd()</code> function.  It is beyond the scope of this course to describe function decorators, but it suffices to understand that the decorator specifies which function is to eb profiled.\n",
    "\n",
    "Here is the result:\n",
    "![rnd_py_cmd_prmpt.jpg](images/rnd_py_cmd_prmpt.jpg)\n",
    "\n",
    "Alternatively, one does not need to import <code>memory_profiler</code> within the code file if this command line command is used, although the default decorator <code>profile</code> must be used:\n",
    "![rnd1_py.jpg](images/rnd1_py.jpg)\n",
    "![rnd1_py_cmd_prmpt.jpg](images/rnd1_py_cmd_prmpt.jpg)"
   ]
  },
  {
   "cell_type": "markdown",
   "metadata": {},
   "source": [
    "### <code>memory_profiler</code> in Spyder"
   ]
  },
  {
   "cell_type": "markdown",
   "metadata": {},
   "source": [
    "The previously mentioned file <code>rnd.py</code> can be run directly in a Spyder environment provided that <code>memory_profiler</code> is installed in Anaconda.\n",
    "\n",
    "![rnd_spyder.jpg](images/rnd_spyder.jpg)"
   ]
  },
  {
   "cell_type": "code",
   "execution_count": null,
   "metadata": {},
   "outputs": [],
   "source": []
  },
  {
   "cell_type": "markdown",
   "metadata": {},
   "source": [
    "# <font face='courier'>for</font> Loop Review <a name='loops' />\n",
    "Back to <a href = '#navigation'>Navigation</a>\n",
    "\n",
    "<font face='courier'>for</font> loops can be used to access the elements of _iterable_ data types, which includes:\n",
    "\n",
    "- lists\n",
    "- tuples\n",
    "- dictionaries\n",
    "\n",
    "Elements can sometimes be revised of the data type is mutable.  Lists can be freely changed, tuples cannot be changed, while dictionary values can be changed although dictionary keys cannot.  This section reviews the basics of _iterating_ through lists and dictionaries."
   ]
  },
  {
   "cell_type": "markdown",
   "metadata": {},
   "source": [
    "## Looping through Lists\n",
    "Back to <a href = '#navigation'>Navigation</a>\n",
    "\n",
    "You can access all the elements within a list using a _for_ loop.  This approach is generally called _iterating through a list_.  Lists are just one of the data types that you can iterate through: we call the collection of all such data types <font face='courier'>iterables</font>. For loops are perfect for accessing all the elements in a list because the <font face='courier'>len()</font> function cand be used to determine how many times the loop must be executed.  \n",
    "\n",
    "There are two ways to iterate through data and objects with for loop, which are illustrated below:\n",
    "- by index\n",
    "- directly by referencing the items being iterated\n",
    "\n",
    "Within a loop, we can access the value of a list element and use it in a computation or assign a new value to it."
   ]
  },
  {
   "cell_type": "code",
   "execution_count": null,
   "metadata": {},
   "outputs": [],
   "source": [
    "myList = [65,89,21,34,72,38,50,68,17]"
   ]
  },
  {
   "cell_type": "markdown",
   "metadata": {},
   "source": [
    "We can loop through a list and access each element by using a dummy variable <font face='courier'>ele</font> (short for element), which is assigned a copy of the value of each element.  For starters, we will jsut print each element."
   ]
  },
  {
   "cell_type": "code",
   "execution_count": null,
   "metadata": {},
   "outputs": [],
   "source": [
    "for ele in myList:\n",
    "    print(ele)"
   ]
  },
  {
   "cell_type": "markdown",
   "metadata": {},
   "source": [
    "Alternatively, we can print each element by constructing a range of indices that corresponds with the length of the list, and use those indices to access the data elements."
   ]
  },
  {
   "cell_type": "code",
   "execution_count": null,
   "metadata": {},
   "outputs": [],
   "source": [
    "for i in range(len(myList)):\n",
    "    print(myList[i])"
   ]
  },
  {
   "cell_type": "markdown",
   "metadata": {},
   "source": [
    "So far, we have just accessed the value as if we were printing them or using them in a computation.  What if we wanted to change some values in the list.  Here is one approach.  Does it work?"
   ]
  },
  {
   "cell_type": "code",
   "execution_count": null,
   "metadata": {},
   "outputs": [],
   "source": [
    "for i in range(len(myList)):\n",
    "    if myList[i] > 60:\n",
    "        myList[i] = 'new value'\n",
    "print(myList)"
   ]
  },
  {
   "cell_type": "markdown",
   "metadata": {},
   "source": [
    "Now, let's use the first approach we demonstrated."
   ]
  },
  {
   "cell_type": "code",
   "execution_count": null,
   "metadata": {},
   "outputs": [],
   "source": [
    "myList = [65,89,21,34,72,38,50,68,17]\n",
    "for ele in myList:\n",
    "    if ele > 60:\n",
    "        ele = 'new value'\n",
    "print(myList)"
   ]
  },
  {
   "cell_type": "markdown",
   "metadata": {},
   "source": [
    "Let's discuss what is going on.  You cannot, obviously, use the approach in the cell above to change values in a list."
   ]
  },
  {
   "cell_type": "markdown",
   "metadata": {},
   "source": [
    "##  Looping through Dictionaries <a name = \"dictionaries\" />\n",
    "Back to <a href = '#navigation'>Navigation</a>\n",
    "\n",
    "Dictionaries:\n",
    "- Are indicated by curly braces each of its elements, which are separated by commas, have two components separated by a colon\n",
    "- Dictionary element _keys_ are indicated before the colon\n",
    "- Dictionary element _values_ are indicated after the colon\n",
    "- Each key is unique: only one dictionary may have any particular key\n",
    "- We often think of a dictionary key as a way to look up a dictionary value\n",
    "\n",
    "You can simply use a key to look up a dictionary value or change the value."
   ]
  },
  {
   "cell_type": "code",
   "execution_count": null,
   "metadata": {},
   "outputs": [],
   "source": [
    "# Example dictionary\n",
    "myDiction = {0:'cero', 1:'uno', 2:'sod', 3:'tres'}"
   ]
  },
  {
   "cell_type": "code",
   "execution_count": null,
   "metadata": {},
   "outputs": [],
   "source": [
    "print(myDiction[2])"
   ]
  },
  {
   "cell_type": "code",
   "execution_count": null,
   "metadata": {},
   "outputs": [],
   "source": [
    "myDiction[2] = 'dos'\n",
    "print(myDiction)"
   ]
  },
  {
   "cell_type": "markdown",
   "metadata": {},
   "source": [
    "We can use loops to access all the elements in a dictionary.  Dictionaries are, by default, _iterated_ through by key, which means that we access all of the uniques in one manner or another.  Two of the ways are illustrated below, the first of which shows that when we simply put the dictionary name in a for statement, we iterate through teh keys by default.  We can also explicitly use the <font face = 'courier'>.keys()</font> property of dictionaries to remind ourselves that we are iterating through the keys: this is the second approach below."
   ]
  },
  {
   "cell_type": "code",
   "execution_count": null,
   "metadata": {},
   "outputs": [],
   "source": [
    "for key in myDiction:\n",
    "    print(key, myDiction[key])"
   ]
  },
  {
   "cell_type": "code",
   "execution_count": null,
   "metadata": {},
   "outputs": [],
   "source": [
    "for k in myDiction.keys():\n",
    "    print(k, myDiction[k])"
   ]
  },
  {
   "cell_type": "markdown",
   "metadata": {},
   "source": [
    "A frequently-used method of looping explicitly through both the keys and values in a dictionary is as follows using the <font face = 'courier'>.items()</font> method of dictionaries.  When two dummy variables are used in the for statement each key and value pair are _unpacked_ into the two variables."
   ]
  },
  {
   "cell_type": "code",
   "execution_count": null,
   "metadata": {},
   "outputs": [],
   "source": [
    "for key,value in myDiction.items():\n",
    "    print(key,value)"
   ]
  },
  {
   "cell_type": "markdown",
   "metadata": {},
   "source": [
    "Or, you can use this more succinct code.  As you get more experience it will be obvious that you are dealing with a dictionary and <font face='courier'>k</font> is the key and <font face='courier'>v</font> is the value."
   ]
  },
  {
   "cell_type": "code",
   "execution_count": null,
   "metadata": {},
   "outputs": [],
   "source": [
    "for k,v in myDiction.items():\n",
    "    print(k,v)"
   ]
  },
  {
   "cell_type": "markdown",
   "metadata": {},
   "source": [
    "# Aliasing <a name = 'aliasing' />\n",
    "Back to <a href = '#navigation'>Navigation</a>\n",
    "\n",
    "Aliasing the the act of referencing the same memory location/variable using multiple names.  It happens most often unintentionally and can cause a frustrating debugging adventure.\n",
    "\n",
    "with <font face='courier'>int</font> and <font face='courier'>float</font> data types there is no chance of aliasing.  Everything works intuitively.  When we change the value of <font face='courier'>p</font> we change only its value and not the value of <font face='courier'>q</font>.  The converse is true when we change the value of <font face='courier'>q</font>."
   ]
  },
  {
   "cell_type": "code",
   "execution_count": null,
   "metadata": {},
   "outputs": [],
   "source": [
    "p = 1\n",
    "q = p\n",
    "p = 2\n",
    "print('p =',p,'     q =',q)"
   ]
  },
  {
   "cell_type": "markdown",
   "metadata": {},
   "source": [
    "When we assign a list to another list, however, both list names point to the same data, which is to say that they both pint to the same place in memory."
   ]
  },
  {
   "cell_type": "code",
   "execution_count": null,
   "metadata": {},
   "outputs": [],
   "source": [
    "x = [1,2]\n",
    "y = x\n",
    "y[0] = 99\n",
    "print('x =',x,'     y =',y)"
   ]
  },
  {
   "cell_type": "markdown",
   "metadata": {},
   "source": [
    "We often need to create a list, or list of lists, to receive our computations, such as when we are computing the tranpose of a lsit of lists.  Using the apprach above would create aliasing and we would either end up with a matrix with the wrong values, or we would corrupt the original matrix, or both.\n",
    "\n",
    "One safe way to create a list of lists of the same dimension as an existing list of lists, use the approach in the cell below."
   ]
  },
  {
   "cell_type": "code",
   "execution_count": null,
   "metadata": {},
   "outputs": [],
   "source": [
    "X = [[0,1,2],[3,4,5],[6,7,8]]  # original list of lists\n",
    "Y = [[0 for i in range(len(X[0]))] for j in range(len(X))] # list of lists to receive the transpose\n",
    "print('Y  =',Y,'\\n')\n",
    "Y[0][0] = 99\n",
    "print('Y =',Y,'\\n')\n",
    "print('X =',X,'\\n')"
   ]
  },
  {
   "cell_type": "markdown",
   "metadata": {},
   "source": [
    "You may also import the <font face='courier'>copy</font> package and use the <font face='courier'>copy.deepcopy()</font> method (see [<font face='courier'>list.copy() function</font>](https://docs.python.org/3.6/library/copy.html)) but I prefer the approach above."
   ]
  },
  {
   "cell_type": "markdown",
   "metadata": {},
   "source": [
    "I have had issues with aliasing with the methods below, so <font color='red'><b>DO NOT USE THE METHODS BELOW</b></font>."
   ]
  },
  {
   "cell_type": "code",
   "execution_count": null,
   "metadata": {},
   "outputs": [],
   "source": [
    "X = [[0,1,2],[3,4,5],[6,7,8]]  # original list of lists\n",
    "Y = [[0] * len(X[0])]  * len(X)  # list of lists to receive the transpose\n",
    "print('Y  =',Y,'\\n')\n",
    "Y[0][0] = 99\n",
    "print('Y =',Y,'\\n')\n",
    "print('X =',X,'\\n')"
   ]
  },
  {
   "cell_type": "code",
   "execution_count": null,
   "metadata": {},
   "outputs": [],
   "source": [
    "X = [[0,1,2],[3,4,5],[6,7,8]]  # original list of lists\n",
    "Y = X.copy()  # list of lists to receive the transpose\n",
    "print('Y  =',Y,'\\n')\n",
    "Y[0][0] = 99\n",
    "print('Y =',Y,'\\n')\n",
    "print('X =',X,'\\n')"
   ]
  },
  {
   "cell_type": "markdown",
   "metadata": {},
   "source": [
    "These approaches successfully create copies of list while avoiding aliasing for 1-dimensional matrices, but they create aliasing with multidimensional matrices."
   ]
  },
  {
   "cell_type": "code",
   "execution_count": null,
   "metadata": {},
   "outputs": [],
   "source": [
    "X = [[0,1,2],[3,4,5],[6,7,8]]  # original list of lists\n",
    "Y = X[:]  # list of lists to receive the transpose\n",
    "print('Y  =',Y,'\\n')\n",
    "Y[0][0] = 99\n",
    "print('Y =',Y,'\\n')\n",
    "print('X =',X,'\\n')"
   ]
  },
  {
   "cell_type": "code",
   "execution_count": null,
   "metadata": {},
   "outputs": [],
   "source": [
    "X = [[0,1,2],[3,4,5],[6,7,8]]  # original list of lists\n",
    "Y = list(X) # list of lists to receive the transpose\n",
    "print('Y  =',Y,'\\n')\n",
    "Y[0][0] = 99\n",
    "print('Y =',Y,'\\n')\n",
    "print('X =',X,'\\n')"
   ]
  },
  {
   "cell_type": "markdown",
   "metadata": {},
   "source": [
    "# Additional Examples of Large File Input"
   ]
  },
  {
   "cell_type": "markdown",
   "metadata": {},
   "source": [
    "### Large File Input with base Python Generators\n",
    "\n",
    "Remember the 1M line weather file: <code>files/NorfolkWeatherLong.csv</code>\n",
    "\n",
    "The best that the non-generator code can do with loading 1M rows of 2D data set is a little under one second."
   ]
  },
  {
   "cell_type": "code",
   "execution_count": null,
   "metadata": {},
   "outputs": [],
   "source": [
    "%%timeit\n",
    "\n",
    "def ssc_2d(data):\n",
    "    for i in range(len(data)):\n",
    "        data[i] = data[i].strip().split(',')\n",
    "        data[i][0] = int(data[i][0])\n",
    "        data[i][1] = float(data[i][1])\n",
    "    return data\n",
    "\n",
    "with open('files/NorfolkWeatherLong.csv','r') as f:\n",
    "    nw1999 = f.readlines()\n",
    "nw1999 = ssc_2d(nw1999)"
   ]
  },
  {
   "cell_type": "code",
   "execution_count": null,
   "metadata": {},
   "outputs": [],
   "source": [
    "%%timeit \n",
    "\n",
    "def ssc_2d(file_name):\n",
    "    with open(file_name,'r') as f:\n",
    "        data = [line.strip().split(',') for line in f.readlines()]\n",
    "        data = [[int(point[0]), float(point[1])] for point in data]\n",
    "        return data\n",
    "\n",
    "filename = 'files/NorfolkWeatherLong.csv'\n",
    "nw1999 = ssc_2d(filename)"
   ]
  },
  {
   "cell_type": "code",
   "execution_count": null,
   "metadata": {},
   "outputs": [],
   "source": [
    "%%timeit\n",
    "\n",
    "def ssc_2d(data):\n",
    "    x = []\n",
    "    y = []\n",
    "    for i in range(len(data)):\n",
    "        data[i] = data[i].strip().split(',')\n",
    "        x.append(int(data[i][0]))\n",
    "        y.append(float(data[i][1]))\n",
    "    return x, y\n",
    "\n",
    "with open('files/NorfolkWeatherLong.csv','r') as f:\n",
    "    nw1999 = f.readlines()\n",
    "x, y = ssc_2d(nw1999)"
   ]
  },
  {
   "cell_type": "code",
   "execution_count": null,
   "metadata": {},
   "outputs": [],
   "source": [
    "%%timeit\n",
    "\n",
    "def ssc_2d(data):\n",
    "    data = [line .strip().split(',') for line in data]\n",
    "    x = [int(x[0]) for x in data]\n",
    "    y = [float(x[1]) for x in data]\n",
    "    return x, y\n",
    "\n",
    "with open('files/NorfolkWeatherLong.csv','r') as f:\n",
    "    nw1999 = f.readlines()\n",
    "x, y = ssc_2d(nw1999)"
   ]
  },
  {
   "cell_type": "markdown",
   "metadata": {},
   "source": [
    "The code in the cells below returns a generator that provides access to the text file data much faster."
   ]
  },
  {
   "cell_type": "code",
   "execution_count": null,
   "metadata": {},
   "outputs": [],
   "source": [
    "%%timeit\n",
    "\n",
    "def ssc_2d(filename):\n",
    "    with open(filename,'r') as f:\n",
    "        data = (line.strip().split(',') for line in f.readlines())\n",
    "        data = ((int(point[0]), float(point[1])) for point in data)\n",
    "    return data\n",
    "\n",
    "x = ssc_2d('files/NorfolkWeatherLong.csv')"
   ]
  },
  {
   "cell_type": "markdown",
   "metadata": {},
   "source": [
    "This code version conveniently splits the <code>x</code> and <code>y</code> series: using <code>zip</code> is much slower."
   ]
  },
  {
   "cell_type": "code",
   "execution_count": null,
   "metadata": {},
   "outputs": [],
   "source": [
    "%%timeit\n",
    "\n",
    "def ssc_2d(filename):\n",
    "    with open(filename,'r') as f:\n",
    "        data = (line.strip().split(',') for line in f.readlines())\n",
    "        x = (int(point[0]) for point in data)\n",
    "    with open(filename,'r') as f:\n",
    "        data1 = (line.strip().split(',') for line in f.readlines())\n",
    "        y = (float(point[1]) for point in data1)\n",
    "    return x, y\n",
    "\n",
    "x, y = ssc_2d('files/NorfolkWeatherLong.csv')"
   ]
  },
  {
   "cell_type": "markdown",
   "metadata": {},
   "source": [
    "Data acquisition and plotting using generators and the <code>itertools</code> package <code>islice()</code> function."
   ]
  },
  {
   "cell_type": "code",
   "execution_count": null,
   "metadata": {},
   "outputs": [],
   "source": [
    "%%timeit\n",
    "\n",
    "from itertools import islice\n",
    "\n",
    "def ssc_2d(filename):\n",
    "    with open(filename,'r') as f:\n",
    "        data = (line.strip().split(',') for line in f.readlines())\n",
    "        x = (int(point[0]) for point in data)\n",
    "    with open(filename,'r') as f:\n",
    "        data1 = (line.strip().split(',') for line in f.readlines())\n",
    "        y = (float(point[1]) for point in data1)\n",
    "    return x, y\n",
    "\n",
    "x, y = ssc_2d('files/NorfolkWeatherLong.csv') #nw1999\n",
    "\n",
    "#plt.plot([*x][:365],[*y][:365])\n",
    "plt.plot([*islice(x, 0, 365)], [*islice(y, 0, 365)])\n",
    "plt.show()"
   ]
  },
  {
   "cell_type": "code",
   "execution_count": null,
   "metadata": {},
   "outputs": [],
   "source": [
    "%%timeit\n",
    "\n",
    "from itertools import islice\n",
    "\n",
    "def ssc_2d(filename):\n",
    "    with open(filename,'r') as f:\n",
    "        data = (line.strip().split(',') for line in f.readlines())\n",
    "        data = ((int(point[0]), float(point[1])) for point in data)\n",
    "    return data\n",
    "\n",
    "x = ssc_2d('files/NorfolkWeatherLong.csv')\n",
    "\n",
    "plt.plot(*zip(*islice(x, 0, 365)))\n",
    "plt.show()"
   ]
  },
  {
   "cell_type": "markdown",
   "metadata": {},
   "source": [
    "The generator approaches are much faster than using the basic Python methods below."
   ]
  },
  {
   "cell_type": "code",
   "execution_count": null,
   "metadata": {},
   "outputs": [],
   "source": [
    "%%timeit \n",
    "\n",
    "def ssc_2d(file_name):\n",
    "    with open(file_name,'r') as f:\n",
    "        data = [line.strip().split(',') for line in f.readlines()]\n",
    "        data = [[int(point[0]), float(point[1])] for point in data]\n",
    "        return data\n",
    "\n",
    "filename = 'files/NorfolkWeatherLong.csv'\n",
    "nw1999 = ssc_2d(filename)\n",
    "x = [p[0] for p in nw1999] \n",
    "y = [p[1] for p in nw1999] \n",
    "plt.plot(x[:365],y[:365])\n",
    "plt.show()"
   ]
  },
  {
   "cell_type": "code",
   "execution_count": null,
   "metadata": {},
   "outputs": [],
   "source": [
    "%%timeit\n",
    "\n",
    "def ssc_2d(filename):\n",
    "    with open(filename,'r') as f:\n",
    "        data = (line.strip().split(',') for line in f.readlines())\n",
    "        x = (int(x[0]) for x in data)\n",
    "    with open(filename,'r') as f:\n",
    "        data = (line.strip().split(',') for line in f.readlines())\n",
    "        y = (float(x[1]) for x in data)\n",
    "    return x, y #points\n",
    "\n",
    "x, y = ssc_2d('files/NorfolkWeatherLong.csv')\n",
    "\n",
    "#plt.plot([*x][:365],[*y][:365])\n",
    "plt.plot(list(x)[:365],list(y)[:365])\n",
    "plt.show()"
   ]
  },
  {
   "cell_type": "markdown",
   "metadata": {},
   "source": [
    "# Comment\n",
    "\n",
    "The command below was formerly needed to cause graphs to be rendered within the Juyter notebook rather than in a separate window.  It is not currently needed, and probably won't be needed in the future.  Still, it is retained here in case it is needed later.\n",
    "\n",
    "__Note:__ Commands that start with either <code>%</code> or <code>%%</code> are called magic commands.  These are not Python statements but, rather, cause the Jupyter environment or code cell to be changed, most often by loading additional functionality.  A single percent sign, <code>%</code>, indicates commands that apply only to the arguments on that same line, whereas commands starting with <code>%%</code> apply to all the code in a cell in which it is placed as the first line.  "
   ]
  },
  {
   "cell_type": "code",
   "execution_count": null,
   "metadata": {},
   "outputs": [],
   "source": [
    "%matplotlib inline"
   ]
  }
 ],
 "metadata": {
  "kernelspec": {
   "display_name": "Python 3",
   "language": "python",
   "name": "python3"
  },
  "language_info": {
   "codemirror_mode": {
    "name": "ipython",
    "version": 3
   },
   "file_extension": ".py",
   "mimetype": "text/x-python",
   "name": "python",
   "nbconvert_exporter": "python",
   "pygments_lexer": "ipython3",
   "version": "3.8.5"
  }
 },
 "nbformat": 4,
 "nbformat_minor": 2
}
