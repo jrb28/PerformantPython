{
 "cells": [
  {
   "cell_type": "markdown",
   "metadata": {},
   "source": [
    "# Problem 1\n",
    "\n",
    "Recall the file input code we have already looked at below.  Also recall there are two ways to iterate through a list with a <code>for</code> loop.  Convert it to list comprehension using either one of the following two code cells as a starting point."
   ]
  },
  {
   "cell_type": "code",
   "execution_count": null,
   "metadata": {},
   "outputs": [],
   "source": [
    "with open('files/NorfolkWeather1999_1.csv','r') as f:\n",
    "    nw1999 = f.readlines()\n",
    "    \n",
    "for i in range(len(nw1999)):\n",
    "    nw1999[i] = float(nw1999[i])\n",
    "nw1999"
   ]
  },
  {
   "cell_type": "code",
   "execution_count": null,
   "metadata": {},
   "outputs": [],
   "source": [
    "with open('files/NorfolkWeather1999_1.csv','r') as f:\n",
    "    nw1999 = f.readlines()\n",
    "\n",
    "data = []\n",
    "for ele in nw1999:\n",
    "    data.append(float(ele))\n",
    "data"
   ]
  },
  {
   "cell_type": "code",
   "execution_count": null,
   "metadata": {},
   "outputs": [],
   "source": []
  },
  {
   "cell_type": "markdown",
   "metadata": {},
   "source": [
    "# Problem 2\n",
    "\n",
    "Use either version of the problem below and transform the function code into list comprehension as completely as possible."
   ]
  },
  {
   "cell_type": "code",
   "execution_count": 3,
   "metadata": {},
   "outputs": [
    {
     "name": "stdout",
     "output_type": "stream",
     "text": [
      "[[37.278989415619414, -76.55243713176158], [37.54761693516425, -76.25499903096532], [37.404063669387135, -76.3063841389016], [37.45857425899663, -76.2902936287771], [37.3269807750853, -76.43879612820213], [37.71777475715818, -76.2882020043638], [37.76465350016583, -76.63765626954515], [37.6717500101525, -76.54611461980848], [37.73064085611013, -76.30297103795998], [37.5304574510908, -76.32245006672353], [37.41734525519049, -76.59611017117713], [37.70405588138984, -76.58534282199065], [37.75670337629367, -76.58730800793167], [37.27210856694351, -76.53323774168182], [37.36178370004792, -76.6108476971155], [37.74106723040305, -76.32924230019246], [37.474417974606055, -76.32258854006159], [37.498226105121745, -76.25961799966083], [37.382834260219084, -76.61915633092957], [37.708683544631114, -76.24669158438043]]\n"
     ]
    }
   ],
   "source": [
    "def ssc3(data):\n",
    "    for i in range(len(data)):\n",
    "        data[i] = data[i].strip().split(',')  #Get rid of \\n and break row data aprat at the commas\n",
    "        for j in range(len(data[i])): # each data[i] now is a list of multiple elements, iterate through them\n",
    "            data[i][j] = float(data[i][j])  # Inspect the data file: these data are integers\n",
    "    return(data)\n",
    "\n",
    "with open('files/locations.csv','r') as f:\n",
    "    data = f.readlines()\n",
    "\n",
    "data = ssc3(data)\n",
    "print(data)"
   ]
  },
  {
   "cell_type": "code",
   "execution_count": 6,
   "metadata": {},
   "outputs": [
    {
     "data": {
      "text/plain": [
       "[[37.278989415619414, -76.55243713176158],\n",
       " [37.54761693516425, -76.25499903096532],\n",
       " [37.404063669387135, -76.3063841389016],\n",
       " [37.45857425899663, -76.2902936287771],\n",
       " [37.3269807750853, -76.43879612820213],\n",
       " [37.71777475715818, -76.2882020043638],\n",
       " [37.76465350016583, -76.63765626954515],\n",
       " [37.6717500101525, -76.54611461980848],\n",
       " [37.73064085611013, -76.30297103795998],\n",
       " [37.5304574510908, -76.32245006672353],\n",
       " [37.41734525519049, -76.59611017117713],\n",
       " [37.70405588138984, -76.58534282199065],\n",
       " [37.75670337629367, -76.58730800793167],\n",
       " [37.27210856694351, -76.53323774168182],\n",
       " [37.36178370004792, -76.6108476971155],\n",
       " [37.74106723040305, -76.32924230019246],\n",
       " [37.474417974606055, -76.32258854006159],\n",
       " [37.498226105121745, -76.25961799966083],\n",
       " [37.382834260219084, -76.61915633092957],\n",
       " [37.708683544631114, -76.24669158438043]]"
      ]
     },
     "execution_count": 6,
     "metadata": {},
     "output_type": "execute_result"
    }
   ],
   "source": [
    "def ssc3(data):\n",
    "    new_data = []\n",
    "    for row in data:\n",
    "        row = row.strip().split(',')\n",
    "        new_row = []\n",
    "        for ele in row:\n",
    "            new_row.append(float(ele))\n",
    "        new_data.append(new_row)\n",
    "    return new_data\n",
    "\n",
    "with open('files/locations.csv','r') as f:\n",
    "    locs = f.readlines()\n",
    "locs = ssc3(locs)\n",
    "locs"
   ]
  },
  {
   "cell_type": "code",
   "execution_count": null,
   "metadata": {},
   "outputs": [],
   "source": []
  },
  {
   "cell_type": "code",
   "execution_count": null,
   "metadata": {},
   "outputs": [],
   "source": []
  }
 ],
 "metadata": {
  "kernelspec": {
   "display_name": "Python 3",
   "language": "python",
   "name": "python3"
  },
  "language_info": {
   "codemirror_mode": {
    "name": "ipython",
    "version": 3
   },
   "file_extension": ".py",
   "mimetype": "text/x-python",
   "name": "python",
   "nbconvert_exporter": "python",
   "pygments_lexer": "ipython3",
   "version": "3.8.5"
  }
 },
 "nbformat": 4,
 "nbformat_minor": 4
}
