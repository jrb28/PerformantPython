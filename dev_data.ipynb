{
 "cells": [
  {
   "cell_type": "markdown",
   "metadata": {},
   "source": [
    "# Get Census Tract Data for All States and Territories"
   ]
  },
  {
   "cell_type": "markdown",
   "metadata": {},
   "source": [
    "From [census_api_guide](https://api.census.gov/data/2020/dec/pl/examples.html)\n",
    "\n",
    "<code>https://api.census.gov/data/2020/dec/pl?get=NAME&for=tract:*&in=state:06&key=YOUR_KEY_GOES_HERE</code>"
   ]
  },
  {
   "cell_type": "code",
   "execution_count": 10,
   "metadata": {},
   "outputs": [],
   "source": [
    "with open('files/fips_state_codes.csv', 'r') as f:\n",
    "    state_codes = f.readlines()\n",
    "    \n",
    "state_codes = [line.strip().split(',') for line in state_codes]\n",
    "state_codes = [(state, abbrv, code.zfill(2)) for state, abbrv, code in state_codes]"
   ]
  },
  {
   "cell_type": "code",
   "execution_count": 11,
   "metadata": {},
   "outputs": [
    {
     "data": {
      "text/plain": [
       "[('Alabama', 'AL', '01'),\n",
       " ('Alaska', 'AK', '02'),\n",
       " ('Arizona', 'AZ', '04'),\n",
       " ('Arkansas', 'AR', '05'),\n",
       " ('California', 'CA', '06')]"
      ]
     },
     "execution_count": 11,
     "metadata": {},
     "output_type": "execute_result"
    }
   ],
   "source": [
    "state_codes[:5]"
   ]
  },
  {
   "cell_type": "code",
   "execution_count": 13,
   "metadata": {},
   "outputs": [
    {
     "name": "stdout",
     "output_type": "stream",
     "text": [
      "https://api.census.gov/data/2020/dec/pl?get=NAME&for=tract:*&in=state:01&key=902172a1c340398d9458b24ce69b87d28ce086c0\n",
      "https://api.census.gov/data/2020/dec/pl?get=NAME&for=tract:*&in=state:02&key=902172a1c340398d9458b24ce69b87d28ce086c0\n",
      "https://api.census.gov/data/2020/dec/pl?get=NAME&for=tract:*&in=state:04&key=902172a1c340398d9458b24ce69b87d28ce086c0\n",
      "https://api.census.gov/data/2020/dec/pl?get=NAME&for=tract:*&in=state:05&key=902172a1c340398d9458b24ce69b87d28ce086c0\n",
      "https://api.census.gov/data/2020/dec/pl?get=NAME&for=tract:*&in=state:06&key=902172a1c340398d9458b24ce69b87d28ce086c0\n",
      "https://api.census.gov/data/2020/dec/pl?get=NAME&for=tract:*&in=state:08&key=902172a1c340398d9458b24ce69b87d28ce086c0\n",
      "https://api.census.gov/data/2020/dec/pl?get=NAME&for=tract:*&in=state:09&key=902172a1c340398d9458b24ce69b87d28ce086c0\n",
      "https://api.census.gov/data/2020/dec/pl?get=NAME&for=tract:*&in=state:10&key=902172a1c340398d9458b24ce69b87d28ce086c0\n",
      "https://api.census.gov/data/2020/dec/pl?get=NAME&for=tract:*&in=state:12&key=902172a1c340398d9458b24ce69b87d28ce086c0\n",
      "https://api.census.gov/data/2020/dec/pl?get=NAME&for=tract:*&in=state:13&key=902172a1c340398d9458b24ce69b87d28ce086c0\n",
      "https://api.census.gov/data/2020/dec/pl?get=NAME&for=tract:*&in=state:15&key=902172a1c340398d9458b24ce69b87d28ce086c0\n",
      "https://api.census.gov/data/2020/dec/pl?get=NAME&for=tract:*&in=state:16&key=902172a1c340398d9458b24ce69b87d28ce086c0\n",
      "https://api.census.gov/data/2020/dec/pl?get=NAME&for=tract:*&in=state:17&key=902172a1c340398d9458b24ce69b87d28ce086c0\n",
      "https://api.census.gov/data/2020/dec/pl?get=NAME&for=tract:*&in=state:18&key=902172a1c340398d9458b24ce69b87d28ce086c0\n",
      "https://api.census.gov/data/2020/dec/pl?get=NAME&for=tract:*&in=state:19&key=902172a1c340398d9458b24ce69b87d28ce086c0\n",
      "https://api.census.gov/data/2020/dec/pl?get=NAME&for=tract:*&in=state:20&key=902172a1c340398d9458b24ce69b87d28ce086c0\n",
      "https://api.census.gov/data/2020/dec/pl?get=NAME&for=tract:*&in=state:21&key=902172a1c340398d9458b24ce69b87d28ce086c0\n",
      "https://api.census.gov/data/2020/dec/pl?get=NAME&for=tract:*&in=state:22&key=902172a1c340398d9458b24ce69b87d28ce086c0\n",
      "https://api.census.gov/data/2020/dec/pl?get=NAME&for=tract:*&in=state:23&key=902172a1c340398d9458b24ce69b87d28ce086c0\n",
      "https://api.census.gov/data/2020/dec/pl?get=NAME&for=tract:*&in=state:24&key=902172a1c340398d9458b24ce69b87d28ce086c0\n",
      "https://api.census.gov/data/2020/dec/pl?get=NAME&for=tract:*&in=state:25&key=902172a1c340398d9458b24ce69b87d28ce086c0\n",
      "https://api.census.gov/data/2020/dec/pl?get=NAME&for=tract:*&in=state:26&key=902172a1c340398d9458b24ce69b87d28ce086c0\n",
      "https://api.census.gov/data/2020/dec/pl?get=NAME&for=tract:*&in=state:27&key=902172a1c340398d9458b24ce69b87d28ce086c0\n",
      "https://api.census.gov/data/2020/dec/pl?get=NAME&for=tract:*&in=state:28&key=902172a1c340398d9458b24ce69b87d28ce086c0\n",
      "https://api.census.gov/data/2020/dec/pl?get=NAME&for=tract:*&in=state:29&key=902172a1c340398d9458b24ce69b87d28ce086c0\n",
      "https://api.census.gov/data/2020/dec/pl?get=NAME&for=tract:*&in=state:30&key=902172a1c340398d9458b24ce69b87d28ce086c0\n",
      "https://api.census.gov/data/2020/dec/pl?get=NAME&for=tract:*&in=state:31&key=902172a1c340398d9458b24ce69b87d28ce086c0\n",
      "https://api.census.gov/data/2020/dec/pl?get=NAME&for=tract:*&in=state:32&key=902172a1c340398d9458b24ce69b87d28ce086c0\n",
      "https://api.census.gov/data/2020/dec/pl?get=NAME&for=tract:*&in=state:33&key=902172a1c340398d9458b24ce69b87d28ce086c0\n",
      "https://api.census.gov/data/2020/dec/pl?get=NAME&for=tract:*&in=state:34&key=902172a1c340398d9458b24ce69b87d28ce086c0\n",
      "https://api.census.gov/data/2020/dec/pl?get=NAME&for=tract:*&in=state:35&key=902172a1c340398d9458b24ce69b87d28ce086c0\n",
      "https://api.census.gov/data/2020/dec/pl?get=NAME&for=tract:*&in=state:36&key=902172a1c340398d9458b24ce69b87d28ce086c0\n",
      "https://api.census.gov/data/2020/dec/pl?get=NAME&for=tract:*&in=state:37&key=902172a1c340398d9458b24ce69b87d28ce086c0\n",
      "https://api.census.gov/data/2020/dec/pl?get=NAME&for=tract:*&in=state:38&key=902172a1c340398d9458b24ce69b87d28ce086c0\n",
      "https://api.census.gov/data/2020/dec/pl?get=NAME&for=tract:*&in=state:39&key=902172a1c340398d9458b24ce69b87d28ce086c0\n",
      "https://api.census.gov/data/2020/dec/pl?get=NAME&for=tract:*&in=state:40&key=902172a1c340398d9458b24ce69b87d28ce086c0\n",
      "https://api.census.gov/data/2020/dec/pl?get=NAME&for=tract:*&in=state:41&key=902172a1c340398d9458b24ce69b87d28ce086c0\n",
      "https://api.census.gov/data/2020/dec/pl?get=NAME&for=tract:*&in=state:42&key=902172a1c340398d9458b24ce69b87d28ce086c0\n",
      "https://api.census.gov/data/2020/dec/pl?get=NAME&for=tract:*&in=state:44&key=902172a1c340398d9458b24ce69b87d28ce086c0\n",
      "https://api.census.gov/data/2020/dec/pl?get=NAME&for=tract:*&in=state:45&key=902172a1c340398d9458b24ce69b87d28ce086c0\n",
      "https://api.census.gov/data/2020/dec/pl?get=NAME&for=tract:*&in=state:46&key=902172a1c340398d9458b24ce69b87d28ce086c0\n",
      "https://api.census.gov/data/2020/dec/pl?get=NAME&for=tract:*&in=state:47&key=902172a1c340398d9458b24ce69b87d28ce086c0\n",
      "https://api.census.gov/data/2020/dec/pl?get=NAME&for=tract:*&in=state:48&key=902172a1c340398d9458b24ce69b87d28ce086c0\n",
      "https://api.census.gov/data/2020/dec/pl?get=NAME&for=tract:*&in=state:49&key=902172a1c340398d9458b24ce69b87d28ce086c0\n",
      "https://api.census.gov/data/2020/dec/pl?get=NAME&for=tract:*&in=state:50&key=902172a1c340398d9458b24ce69b87d28ce086c0\n",
      "https://api.census.gov/data/2020/dec/pl?get=NAME&for=tract:*&in=state:51&key=902172a1c340398d9458b24ce69b87d28ce086c0\n",
      "https://api.census.gov/data/2020/dec/pl?get=NAME&for=tract:*&in=state:53&key=902172a1c340398d9458b24ce69b87d28ce086c0\n",
      "https://api.census.gov/data/2020/dec/pl?get=NAME&for=tract:*&in=state:54&key=902172a1c340398d9458b24ce69b87d28ce086c0\n",
      "https://api.census.gov/data/2020/dec/pl?get=NAME&for=tract:*&in=state:55&key=902172a1c340398d9458b24ce69b87d28ce086c0\n",
      "https://api.census.gov/data/2020/dec/pl?get=NAME&for=tract:*&in=state:56&key=902172a1c340398d9458b24ce69b87d28ce086c0\n",
      "https://api.census.gov/data/2020/dec/pl?get=NAME&for=tract:*&in=state:60&key=902172a1c340398d9458b24ce69b87d28ce086c0\n",
      "https://api.census.gov/data/2020/dec/pl?get=NAME&for=tract:*&in=state:66&key=902172a1c340398d9458b24ce69b87d28ce086c0\n",
      "https://api.census.gov/data/2020/dec/pl?get=NAME&for=tract:*&in=state:69&key=902172a1c340398d9458b24ce69b87d28ce086c0\n",
      "https://api.census.gov/data/2020/dec/pl?get=NAME&for=tract:*&in=state:72&key=902172a1c340398d9458b24ce69b87d28ce086c0\n",
      "https://api.census.gov/data/2020/dec/pl?get=NAME&for=tract:*&in=state:78&key=902172a1c340398d9458b24ce69b87d28ce086c0\n"
     ]
    }
   ],
   "source": [
    "import requests\n",
    "\n",
    "file = ''\n",
    "key = '902172a1c340398d9458b24ce69b87d28ce086c0'\n",
    "\n",
    "for state, abbrv, code in state_codes:\n",
    "    url = f'https://api.census.gov/data/2020/dec/pl?get=NAME&for=tract:*&in=state:{code}&key={key}'\n",
    "    response = requests.get(url, \n",
    "                            headers={\"User-Agent\": \"Mozilla/5.0 (Windows NT 6.1; WOW64) AppleWebKit/537.36 (KHTML, like Gecko) Chrome/50.0.2661.102 Safari/537.36\"})\n",
    "    response = response.json()\n",
    "\n",
    "    "
   ]
  },
  {
   "cell_type": "code",
   "execution_count": 14,
   "metadata": {},
   "outputs": [],
   "source": [
    "with open('files/tract_codes.csv', 'r') as f:\n",
    "    state_codes = f.readlines()"
   ]
  },
  {
   "cell_type": "code",
   "execution_count": 17,
   "metadata": {},
   "outputs": [
    {
     "data": {
      "text/plain": [
       "['NAME,state,county,tract\\n',\n",
       " 'Census Tract 9636, Crenshaw County, Alabama,01,041,963600\\n',\n",
       " 'Census Tract 9630, Covington County, Alabama,01,039,963000\\n',\n",
       " 'Census Tract 9634, Crenshaw County, Alabama,01,041,963400\\n',\n",
       " 'Census Tract 9635, Crenshaw County, Alabama,01,041,963500\\n',\n",
       " 'Census Tract 9637, Crenshaw County, Alabama,01,041,963700\\n',\n",
       " 'Census Tract 9638, Crenshaw County, Alabama,01,041,963800\\n',\n",
       " 'Census Tract 9639, Crenshaw County, Alabama,01,041,963900\\n',\n",
       " 'Census Tract 9641, Cullman County, Alabama,01,043,964100\\n',\n",
       " 'Census Tract 9642.01, Cullman County, Alabama,01,043,964201\\n']"
      ]
     },
     "execution_count": 17,
     "metadata": {},
     "output_type": "execute_result"
    }
   ],
   "source": [
    "state_codes[:10]"
   ]
  },
  {
   "cell_type": "code",
   "execution_count": null,
   "metadata": {},
   "outputs": [],
   "source": []
  }
 ],
 "metadata": {
  "kernelspec": {
   "display_name": "Python 3",
   "language": "python",
   "name": "python3"
  },
  "language_info": {
   "codemirror_mode": {
    "name": "ipython",
    "version": 3
   },
   "file_extension": ".py",
   "mimetype": "text/x-python",
   "name": "python",
   "nbconvert_exporter": "python",
   "pygments_lexer": "ipython3",
   "version": "3.8.5"
  }
 },
 "nbformat": 4,
 "nbformat_minor": 4
}
