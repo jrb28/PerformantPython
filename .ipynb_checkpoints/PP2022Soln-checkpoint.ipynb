{
 "cells": [
  {
   "cell_type": "code",
   "execution_count": 1,
   "metadata": {},
   "outputs": [
    {
     "name": "stdout",
     "output_type": "stream",
     "text": [
      "(0, 1, 2, 3)\n",
      "(0, 2, 4, 6)\n"
     ]
    }
   ],
   "source": [
    "data = [[0,0], [1,2], [2,4], [3,6]]\n",
    "x, y = zip(*data)\n",
    "print(x)\n",
    "print(y)"
   ]
  },
  {
   "cell_type": "code",
   "execution_count": 3,
   "metadata": {},
   "outputs": [
    {
     "name": "stdout",
     "output_type": "stream",
     "text": [
      "even\n",
      "even\n",
      "even\n",
      "even\n",
      "even\n",
      "odd\n",
      "odd\n",
      "odd\n",
      "odd\n",
      "odd\n",
      "['even', 'even', 'even', 'even', 'even', 'odd', 'odd', 'odd', 'odd', 'odd']\n"
     ]
    }
   ],
   "source": [
    "values = [0, 2, 4, 6, 8, 1, 3, 5, 7, 9]\n",
    "\n",
    "def f(x):\n",
    "    if x%2:\n",
    "        return 'odd'\n",
    "    else:\n",
    "        return 'even'\n",
    "    \n",
    "for x in map(f, values):\n",
    "    print(x)\n",
    "    \n",
    "result = [*map(f, values)]\n",
    "print(result)"
   ]
  },
  {
   "cell_type": "code",
   "execution_count": 4,
   "metadata": {},
   "outputs": [
    {
     "name": "stdout",
     "output_type": "stream",
     "text": [
      "[0, 2, 4, 1, 3]\n"
     ]
    }
   ],
   "source": [
    "values = [0, 2, 4, 6, 8, 1, 3, 5, 7, 9]\n",
    "\n",
    "def little(x):\n",
    "    if x<5:\n",
    "        return True\n",
    "    else:\n",
    "        return False\n",
    "    \n",
    "result = filter(little, values)\n",
    "\n",
    "result = [*result]\n",
    "print(result)"
   ]
  },
  {
   "cell_type": "code",
   "execution_count": 5,
   "metadata": {},
   "outputs": [
    {
     "name": "stdout",
     "output_type": "stream",
     "text": [
      "[0, 2, 4, 1, 3]\n"
     ]
    }
   ],
   "source": [
    "values = [0, 2, 4, 6, 8, 1, 3, 5, 7, 9]\n",
    "\n",
    "\n",
    "result = filter(lambda x: x < 5, values)\n",
    "\n",
    "result = [*result]\n",
    "print(result)"
   ]
  },
  {
   "cell_type": "code",
   "execution_count": 6,
   "metadata": {},
   "outputs": [
    {
     "name": "stdout",
     "output_type": "stream",
     "text": [
      "[0, 2, 4, 1, 3]\n"
     ]
    }
   ],
   "source": [
    "values = [0, 2, 4, 6, 8, 1, 3, 5, 7, 9]\n",
    "\n",
    "\n",
    "result = [*filter(lambda x: x < 5, values)]\n",
    "print(result)"
   ]
  },
  {
   "cell_type": "code",
   "execution_count": null,
   "metadata": {},
   "outputs": [],
   "source": []
  },
  {
   "cell_type": "code",
   "execution_count": null,
   "metadata": {},
   "outputs": [],
   "source": []
  },
  {
   "cell_type": "code",
   "execution_count": null,
   "metadata": {},
   "outputs": [],
   "source": []
  }
 ],
 "metadata": {
  "kernelspec": {
   "display_name": "Python 3",
   "language": "python",
   "name": "python3"
  },
  "language_info": {
   "codemirror_mode": {
    "name": "ipython",
    "version": 3
   },
   "file_extension": ".py",
   "mimetype": "text/x-python",
   "name": "python",
   "nbconvert_exporter": "python",
   "pygments_lexer": "ipython3",
   "version": "3.8.5"
  }
 },
 "nbformat": 4,
 "nbformat_minor": 4
}
