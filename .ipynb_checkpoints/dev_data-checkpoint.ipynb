{
 "cells": [
  {
   "cell_type": "markdown",
   "metadata": {},
   "source": [
    "# Get Census Tract Data for All States and Territories"
   ]
  },
  {
   "cell_type": "code",
   "execution_count": 10,
   "metadata": {},
   "outputs": [],
   "source": [
    "with open('files/fips_state_codes.csv', 'r') as f:\n",
    "    state_codes = f.readlines()\n",
    "    \n",
    "state_codes = [line.strip().split(',') for line in state_codes]\n",
    "state_codes = [(state, abbrv, code.zfill(2)) for state, abbrv, code in state_codes]"
   ]
  },
  {
   "cell_type": "code",
   "execution_count": 11,
   "metadata": {},
   "outputs": [
    {
     "data": {
      "text/plain": [
       "[('Alabama', 'AL', '01'),\n",
       " ('Alaska', 'AK', '02'),\n",
       " ('Arizona', 'AZ', '04'),\n",
       " ('Arkansas', 'AR', '05'),\n",
       " ('California', 'CA', '06')]"
      ]
     },
     "execution_count": 11,
     "metadata": {},
     "output_type": "execute_result"
    }
   ],
   "source": [
    "state_codes[:5]"
   ]
  },
  {
   "cell_type": "code",
   "execution_count": 12,
   "metadata": {},
   "outputs": [],
   "source": [
    "file = ''\n",
    "\n",
    "for state, abbrv, code in state_codes:\n",
    "    "
   ]
  },
  {
   "cell_type": "code",
   "execution_count": null,
   "metadata": {},
   "outputs": [],
   "source": []
  }
 ],
 "metadata": {
  "kernelspec": {
   "display_name": "Python 3",
   "language": "python",
   "name": "python3"
  },
  "language_info": {
   "codemirror_mode": {
    "name": "ipython",
    "version": 3
   },
   "file_extension": ".py",
   "mimetype": "text/x-python",
   "name": "python",
   "nbconvert_exporter": "python",
   "pygments_lexer": "ipython3",
   "version": "3.8.5"
  }
 },
 "nbformat": 4,
 "nbformat_minor": 4
}
