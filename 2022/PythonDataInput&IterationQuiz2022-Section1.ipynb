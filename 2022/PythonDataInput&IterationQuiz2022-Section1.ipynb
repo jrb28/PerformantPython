{
 "cells": [
  {
   "cell_type": "markdown",
   "metadata": {},
   "source": [
    "# Overall Directions\n",
    "\n",
    "- You have this class session to complete the five problems below.\n",
    "- Submit the quiz to Blackboard on the Assignment page to the assignment named \"Test: Performant Python\" by the end of the session.\n",
    "- Feel free to use extra cells for experimentation and prototypes of your solutions but <b><i>please comment out all statements that do not print solutions</i></b> prior to submission.\n",
    "\n",
    "\n",
    "During this test:\n",
    "\n",
    "- You may refer to any class materials, including lecture notes, personal notes, and assignments.\n",
    "- You may use Google, but you are highly likely to find that class materials are far more relevant to this test than a google search and much more time efficient.\n",
    "- You may not communicate with any other person, besides the professor, during this test by any mode of communication. "
   ]
  },
  {
   "cell_type": "markdown",
   "metadata": {},
   "source": [
    "# Problem 1 (20 points)\n",
    "\n",
    "The data in <font face = 'courier new'>dist.csv</font> gives the distances in miles for all pairwise combinations of 11 locations.  The file has 11 rows, each with 11 elements.  Input these data into a list of lists following these guidelines:\n",
    "\n",
    "- Denote the list of lists with the variable name <font face = 'courier new'>dist</font> \n",
    "- The list of lists should have 11 sublists.  Each sublist should contain 11 elements from one row of the input file.\n",
    "- Use <font face = 'courier new'>for</font> loops to accomplish this task.\n",
    "- Convert the data elements to a numerical data type using the most appropriate data type given how the data are formatted in the data file.\n",
    "- Leave the <font face='courier'>print</font> statement that has already been provided."
   ]
  },
  {
   "cell_type": "code",
   "execution_count": null,
   "metadata": {},
   "outputs": [],
   "source": [
    "''' Put your code here to input the data and create the list of lists '''\n",
    "\n",
    "\n",
    "\n",
    "\n",
    "''' Statement to print the list of lists named dist '''\n",
    "print(dist)"
   ]
  },
  {
   "cell_type": "markdown",
   "metadata": {},
   "source": [
    "# Problem 2 (20 points)\n",
    "\n",
    "Perform the same task as you did in <b>Problem 1</b> with list comprehension.\n",
    "\n",
    "- You may perform the data input and cleansing prior to the list comprehension statement if you desire.\n",
    "- Please leave the <font face='courier'>print</font> statement in the last line of the cell intact."
   ]
  },
  {
   "cell_type": "code",
   "execution_count": null,
   "metadata": {},
   "outputs": [],
   "source": [
    "\n",
    "\n",
    "''' Put your code here to create the list of lists dist using list comprehension '''\n",
    "\n",
    "\n",
    "\n",
    "''' Statement to print the list of lists named dist '''\n",
    "print(dist)"
   ]
  },
  {
   "cell_type": "markdown",
   "metadata": {},
   "source": [
    "# Problem 3 (20 points)\n",
    "\n",
    "Write a generator function named <code>odd()</code> that takes no arguments and returns a potentially infinite stream of odd integers starting with <code>1</code>.  The function should be constructed so that the statements at the bottom of the following cell generate the first 15 odd integers."
   ]
  },
  {
   "cell_type": "code",
   "execution_count": 3,
   "metadata": {},
   "outputs": [
    {
     "data": {
      "text/plain": [
       "[1, 3, 5, 7, 9, 11, 13, 15, 17, 19, 21, 23, 25, 27, 29]"
      ]
     },
     "execution_count": 3,
     "metadata": {},
     "output_type": "execute_result"
    }
   ],
   "source": [
    "def odd():\n",
    "    ''' Please finish this generator function here '''\n",
    "    \n",
    "        \n",
    "''' Do not change the code below this comment '''\n",
    "gen_odd = odd()\n",
    "[next(gen_odd) for _ in range(15)]"
   ]
  },
  {
   "cell_type": "markdown",
   "metadata": {},
   "source": [
    "# Problem 4 (20 points)\n",
    "\n",
    "Perform the same task as described in Problems 1 and 2, but with a file whose data is not clean: <code>dist_dirty.csv </code>.   Some of it rows contain distances that cannot be converted to float values.  Your job is the following:\n",
    "- Read in the distances from the rows whose data can be converted a numerical format\n",
    "  - Use the variable name <code>dists</code> for the list of lists\n",
    "- Use a list named <code>err_idx</code> to keep track of the line indices that could not be converted.\n",
    "- The data in the good rows are separated by commas\n",
    "\n",
    "Hint: this is a perfect opportunity to use the <code>enumerate()</code> function effectively."
   ]
  },
  {
   "cell_type": "code",
   "execution_count": 7,
   "metadata": {},
   "outputs": [
    {
     "name": "stdout",
     "output_type": "stream",
     "text": [
      "[1, 4, 7, 8, 13, 16]\n",
      "[[0.0, 18.4, 8.9, 17.0, 12.4, 13.4, 20.1, 15.3, 3.0, 13.6, 11.2], [18.4, 0.0, 9.5, 7.0, 14.9, 5.1, 13.6, 4.5, 17.5, 6.1, 12.4], [8.9, 9.5, 0.0, 9.8, 9.4, 4.5, 14.0, 7.1, 8.1, 5.0, 6.7], [17.0, 7.0, 9.8, 0.0, 18.4, 7.8, 19.7, 3.6, 17.3, 10.0, 15.6], [12.4, 14.9, 9.4, 18.4, 0.0, 10.8, 8.5, 15.0, 9.5, 8.9, 2.8], [13.4, 5.1, 4.5, 7.8, 10.8, 0.0, 12.4, 4.2, 12.4, 2.2, 8.1], [20.1, 13.6, 14.0, 19.7, 8.5, 12.4, 0.0, 16.2, 17.5, 10.2, 8.9], [15.3, 4.5, 7.1, 3.6, 15.0, 4.2, 16.2, 0.0, 15.0, 6.4, 12.2], [3.0, 17.5, 8.1, 17.3, 9.5, 12.4, 17.5, 15.0, 0.0, 12.1, 8.6], [13.6, 6.1, 5.0, 10.0, 8.9, 2.2, 10.2, 6.4, 12.1, 0.0, 6.3], [11.2, 12.4, 6.7, 15.6, 2.8, 8.1, 8.9, 12.2, 8.6, 6.3, 0.0]]\n"
     ]
    }
   ],
   "source": [
    "err_idx = []\n",
    "dists = []  # you may comment out this line if you choose to define dists in another way\n",
    "''' Put your code here to create the list of lists image using list comprehension '''\n",
    "\n",
    "\n",
    "\n",
    "''' Code to plot the list of lists named dist '''\n",
    "print(err_idx)\n",
    "print(dists)"
   ]
  },
  {
   "cell_type": "markdown",
   "metadata": {},
   "source": [
    "# Problem 5 (20 points)\n",
    "\n",
    "This file,\n",
    "\n",
    "<code>Napa-Winery-List62012_clean.csv</code>\n",
    "\n",
    "is a partially cleansed version of data from a Kaggle data set at\n",
    "\n",
    "https://github.com/chelseasnedden/SommelierETL_Project\n",
    "\n",
    "which documents wineries in Napa Valley, CA.\n",
    "\n",
    "Create a set of the unique cities contained in this data in a variable named <code>cities</code>.  Make a set using a single data column that makes the most sense given the data.  Do not worry if all the data retrieved are not valid city names because the data has not been totaly cleansed."
   ]
  },
  {
   "cell_type": "code",
   "execution_count": null,
   "metadata": {},
   "outputs": [],
   "source": [
    "cities = set()\n",
    "''' Put your code here '''\n",
    "\n",
    "''' Do not revise the statement below '''\n",
    "print(cities)"
   ]
  },
  {
   "cell_type": "markdown",
   "metadata": {},
   "source": [
    "# Extra Credit (10 points)\n",
    "\n",
    "Generate a dictionary with frequency histogram about the cities mentioned in the winery data set.  The dictionary key should be a city from the <code>cities</code> set and the value should be the number of times that city is mentioned."
   ]
  },
  {
   "cell_type": "code",
   "execution_count": 1,
   "metadata": {},
   "outputs": [
    {
     "name": "stdout",
     "output_type": "stream",
     "text": [
      "{}\n"
     ]
    }
   ],
   "source": [
    "fh_cities = {}\n",
    "''' Put your code here '''\n",
    "\n",
    "''' Do not revise the statement below '''\n",
    "print(fh_cities)"
   ]
  },
  {
   "cell_type": "code",
   "execution_count": null,
   "metadata": {},
   "outputs": [],
   "source": []
  }
 ],
 "metadata": {
  "kernelspec": {
   "display_name": "Python 3",
   "language": "python",
   "name": "python3"
  },
  "language_info": {
   "codemirror_mode": {
    "name": "ipython",
    "version": 3
   },
   "file_extension": ".py",
   "mimetype": "text/x-python",
   "name": "python",
   "nbconvert_exporter": "python",
   "pygments_lexer": "ipython3",
   "version": "3.8.5"
  }
 },
 "nbformat": 4,
 "nbformat_minor": 2
}
