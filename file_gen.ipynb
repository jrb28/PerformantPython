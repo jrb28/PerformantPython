{
 "cells": [
  {
   "cell_type": "markdown",
   "metadata": {},
   "source": [
    "## Create Large Data File\n",
    "\n",
    "Create a version of Norfolk weather file that is 1M+ lines long."
   ]
  },
  {
   "cell_type": "code",
   "execution_count": null,
   "metadata": {},
   "outputs": [],
   "source": [
    "with open('files/NorfolkWeather1999.csv', 'r') as f:\n",
    "    data = f.read()\n",
    "    \n",
    "with open('files/NorfolkWeatherLong.csv', 'w') as f: \n",
    "    f.write('\\n'.join(data for _ in range(3000)))"
   ]
  },
  {
   "cell_type": "markdown",
   "metadata": {},
   "source": [
    "If you prefer, the cell below creates 1M lines of random temperatures."
   ]
  },
  {
   "cell_type": "code",
   "execution_count": null,
   "metadata": {},
   "outputs": [],
   "source": [
    "import random\n",
    "\n",
    "with open('files/NorfolkWeatherLong.csv', 'w') as f:\n",
    "    f.write('\\n'.join([str(i) + ',' + str(100*random.random()) for i in range(1_000_000)]))"
   ]
  },
  {
   "cell_type": "code",
   "execution_count": 3,
   "metadata": {},
   "outputs": [
    {
     "name": "stdout",
     "output_type": "stream",
     "text": [
      "['1,43.0\\n', '2,55.0\\n', '3,38.0\\n', '4,26.0\\n', '5,28.0\\n']\n",
      "['6,43.0\\n', '7,45.0\\n', '8,51.0\\n', '9,30.0\\n', '10,36.0\\n']\n"
     ]
    }
   ],
   "source": [
    "from itertools import islice \n",
    "with open('files/NorfolkWeather1999.csv', 'r') as f:\n",
    "    _ = f.readline()\n",
    "    print([*islice(f,5)])\n",
    "    print([*islice(f,5)])"
   ]
  },
  {
   "cell_type": "code",
   "execution_count": null,
   "metadata": {},
   "outputs": [],
   "source": [
    "with open('files/NorfolkWeather1999.csv', 'r') as f:\n",
    "    f."
   ]
  }
 ],
 "metadata": {
  "kernelspec": {
   "display_name": "Python 3",
   "language": "python",
   "name": "python3"
  },
  "language_info": {
   "codemirror_mode": {
    "name": "ipython",
    "version": 3
   },
   "file_extension": ".py",
   "mimetype": "text/x-python",
   "name": "python",
   "nbconvert_exporter": "python",
   "pygments_lexer": "ipython3",
   "version": "3.8.5"
  }
 },
 "nbformat": 4,
 "nbformat_minor": 4
}
